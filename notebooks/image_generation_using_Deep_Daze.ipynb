{
  "nbformat": 4,
  "nbformat_minor": 0,
  "metadata": {
    "colab": {
      "name": "image generation using Deep Daze",
      "provenance": [],
      "collapsed_sections": []
    },
    "kernelspec": {
      "name": "python3",
      "display_name": "Python 3"
    },
    "accelerator": "GPU",
    "widgets": {
      "application/vnd.jupyter.widget-state+json": {
        "df89d21d4a87404aa76254250adc7710": {
          "model_module": "@jupyter-widgets/controls",
          "model_name": "HBoxModel",
          "state": {
            "_view_name": "HBoxView",
            "_dom_classes": [],
            "_model_name": "HBoxModel",
            "_view_module": "@jupyter-widgets/controls",
            "_model_module_version": "1.5.0",
            "_view_count": null,
            "_view_module_version": "1.5.0",
            "box_style": "",
            "layout": "IPY_MODEL_3b2197a5bb60479f80fcd45244a014d5",
            "_model_module": "@jupyter-widgets/controls",
            "children": [
              "IPY_MODEL_2a75bb7381e84b81b29b6a6c24206987",
              "IPY_MODEL_ca9aab0f920440748cf9b07aa7f4e8c5"
            ]
          }
        },
        "3b2197a5bb60479f80fcd45244a014d5": {
          "model_module": "@jupyter-widgets/base",
          "model_name": "LayoutModel",
          "state": {
            "_view_name": "LayoutView",
            "grid_template_rows": null,
            "right": null,
            "justify_content": null,
            "_view_module": "@jupyter-widgets/base",
            "overflow": null,
            "_model_module_version": "1.2.0",
            "_view_count": null,
            "flex_flow": null,
            "width": null,
            "min_width": null,
            "border": null,
            "align_items": null,
            "bottom": null,
            "_model_module": "@jupyter-widgets/base",
            "top": null,
            "grid_column": null,
            "overflow_y": null,
            "overflow_x": null,
            "grid_auto_flow": null,
            "grid_area": null,
            "grid_template_columns": null,
            "flex": null,
            "_model_name": "LayoutModel",
            "justify_items": null,
            "grid_row": null,
            "max_height": null,
            "align_content": null,
            "visibility": null,
            "align_self": null,
            "height": null,
            "min_height": null,
            "padding": null,
            "grid_auto_rows": null,
            "grid_gap": null,
            "max_width": null,
            "order": null,
            "_view_module_version": "1.2.0",
            "grid_template_areas": null,
            "object_position": null,
            "object_fit": null,
            "grid_auto_columns": null,
            "margin": null,
            "display": null,
            "left": null
          }
        },
        "2a75bb7381e84b81b29b6a6c24206987": {
          "model_module": "@jupyter-widgets/controls",
          "model_name": "FloatProgressModel",
          "state": {
            "_view_name": "ProgressView",
            "style": "IPY_MODEL_aeb40042522745789113613d01371da9",
            "_dom_classes": [],
            "description": "epochs:  15%",
            "_model_name": "FloatProgressModel",
            "bar_style": "",
            "max": 20,
            "_view_module": "@jupyter-widgets/controls",
            "_model_module_version": "1.5.0",
            "value": 3,
            "_view_count": null,
            "_view_module_version": "1.5.0",
            "orientation": "horizontal",
            "min": 0,
            "description_tooltip": null,
            "_model_module": "@jupyter-widgets/controls",
            "layout": "IPY_MODEL_65ac0f3e77c0435bba59bd658a630854"
          }
        },
        "ca9aab0f920440748cf9b07aa7f4e8c5": {
          "model_module": "@jupyter-widgets/controls",
          "model_name": "HTMLModel",
          "state": {
            "_view_name": "HTMLView",
            "style": "IPY_MODEL_c11fa28f667e45d9b326b693df79fc8f",
            "_dom_classes": [],
            "description": "",
            "_model_name": "HTMLModel",
            "placeholder": "​",
            "_view_module": "@jupyter-widgets/controls",
            "_model_module_version": "1.5.0",
            "value": " 3/20 [1:44:24&lt;8:35:23, 1819.03s/it]",
            "_view_count": null,
            "_view_module_version": "1.5.0",
            "description_tooltip": null,
            "_model_module": "@jupyter-widgets/controls",
            "layout": "IPY_MODEL_b78c0cfc2ff2460fa57f21db3310833d"
          }
        },
        "aeb40042522745789113613d01371da9": {
          "model_module": "@jupyter-widgets/controls",
          "model_name": "ProgressStyleModel",
          "state": {
            "_view_name": "StyleView",
            "_model_name": "ProgressStyleModel",
            "description_width": "initial",
            "_view_module": "@jupyter-widgets/base",
            "_model_module_version": "1.5.0",
            "_view_count": null,
            "_view_module_version": "1.2.0",
            "bar_color": null,
            "_model_module": "@jupyter-widgets/controls"
          }
        },
        "65ac0f3e77c0435bba59bd658a630854": {
          "model_module": "@jupyter-widgets/base",
          "model_name": "LayoutModel",
          "state": {
            "_view_name": "LayoutView",
            "grid_template_rows": null,
            "right": null,
            "justify_content": null,
            "_view_module": "@jupyter-widgets/base",
            "overflow": null,
            "_model_module_version": "1.2.0",
            "_view_count": null,
            "flex_flow": null,
            "width": null,
            "min_width": null,
            "border": null,
            "align_items": null,
            "bottom": null,
            "_model_module": "@jupyter-widgets/base",
            "top": null,
            "grid_column": null,
            "overflow_y": null,
            "overflow_x": null,
            "grid_auto_flow": null,
            "grid_area": null,
            "grid_template_columns": null,
            "flex": null,
            "_model_name": "LayoutModel",
            "justify_items": null,
            "grid_row": null,
            "max_height": null,
            "align_content": null,
            "visibility": null,
            "align_self": null,
            "height": null,
            "min_height": null,
            "padding": null,
            "grid_auto_rows": null,
            "grid_gap": null,
            "max_width": null,
            "order": null,
            "_view_module_version": "1.2.0",
            "grid_template_areas": null,
            "object_position": null,
            "object_fit": null,
            "grid_auto_columns": null,
            "margin": null,
            "display": null,
            "left": null
          }
        },
        "c11fa28f667e45d9b326b693df79fc8f": {
          "model_module": "@jupyter-widgets/controls",
          "model_name": "DescriptionStyleModel",
          "state": {
            "_view_name": "StyleView",
            "_model_name": "DescriptionStyleModel",
            "description_width": "",
            "_view_module": "@jupyter-widgets/base",
            "_model_module_version": "1.5.0",
            "_view_count": null,
            "_view_module_version": "1.2.0",
            "_model_module": "@jupyter-widgets/controls"
          }
        },
        "b78c0cfc2ff2460fa57f21db3310833d": {
          "model_module": "@jupyter-widgets/base",
          "model_name": "LayoutModel",
          "state": {
            "_view_name": "LayoutView",
            "grid_template_rows": null,
            "right": null,
            "justify_content": null,
            "_view_module": "@jupyter-widgets/base",
            "overflow": null,
            "_model_module_version": "1.2.0",
            "_view_count": null,
            "flex_flow": null,
            "width": null,
            "min_width": null,
            "border": null,
            "align_items": null,
            "bottom": null,
            "_model_module": "@jupyter-widgets/base",
            "top": null,
            "grid_column": null,
            "overflow_y": null,
            "overflow_x": null,
            "grid_auto_flow": null,
            "grid_area": null,
            "grid_template_columns": null,
            "flex": null,
            "_model_name": "LayoutModel",
            "justify_items": null,
            "grid_row": null,
            "max_height": null,
            "align_content": null,
            "visibility": null,
            "align_self": null,
            "height": null,
            "min_height": null,
            "padding": null,
            "grid_auto_rows": null,
            "grid_gap": null,
            "max_width": null,
            "order": null,
            "_view_module_version": "1.2.0",
            "grid_template_areas": null,
            "object_position": null,
            "object_fit": null,
            "grid_auto_columns": null,
            "margin": null,
            "display": null,
            "left": null
          }
        },
        "e586390c2dba4ee1b3b21638f2574977": {
          "model_module": "@jupyter-widgets/controls",
          "model_name": "HBoxModel",
          "state": {
            "_view_name": "HBoxView",
            "_dom_classes": [],
            "_model_name": "HBoxModel",
            "_view_module": "@jupyter-widgets/controls",
            "_model_module_version": "1.5.0",
            "_view_count": null,
            "_view_module_version": "1.5.0",
            "box_style": "",
            "layout": "IPY_MODEL_33c2b2f5e0974465afbac5dec13c5686",
            "_model_module": "@jupyter-widgets/controls",
            "children": [
              "IPY_MODEL_fff10fd200ca40fc84875ae672a5f29e",
              "IPY_MODEL_b00854d300454c92a8c4c193760b83e2"
            ]
          }
        },
        "33c2b2f5e0974465afbac5dec13c5686": {
          "model_module": "@jupyter-widgets/base",
          "model_name": "LayoutModel",
          "state": {
            "_view_name": "LayoutView",
            "grid_template_rows": null,
            "right": null,
            "justify_content": null,
            "_view_module": "@jupyter-widgets/base",
            "overflow": null,
            "_model_module_version": "1.2.0",
            "_view_count": null,
            "flex_flow": null,
            "width": null,
            "min_width": null,
            "border": null,
            "align_items": null,
            "bottom": null,
            "_model_module": "@jupyter-widgets/base",
            "top": null,
            "grid_column": null,
            "overflow_y": null,
            "overflow_x": null,
            "grid_auto_flow": null,
            "grid_area": null,
            "grid_template_columns": null,
            "flex": null,
            "_model_name": "LayoutModel",
            "justify_items": null,
            "grid_row": null,
            "max_height": null,
            "align_content": null,
            "visibility": null,
            "align_self": null,
            "height": null,
            "min_height": null,
            "padding": null,
            "grid_auto_rows": null,
            "grid_gap": null,
            "max_width": null,
            "order": null,
            "_view_module_version": "1.2.0",
            "grid_template_areas": null,
            "object_position": null,
            "object_fit": null,
            "grid_auto_columns": null,
            "margin": null,
            "display": null,
            "left": null
          }
        },
        "fff10fd200ca40fc84875ae672a5f29e": {
          "model_module": "@jupyter-widgets/controls",
          "model_name": "FloatProgressModel",
          "state": {
            "_view_name": "ProgressView",
            "style": "IPY_MODEL_663423a8d39843688975e56780b4a4d3",
            "_dom_classes": [],
            "description": "iteration: 100%",
            "_model_name": "FloatProgressModel",
            "bar_style": "success",
            "max": 1050,
            "_view_module": "@jupyter-widgets/controls",
            "_model_module_version": "1.5.0",
            "value": 1050,
            "_view_count": null,
            "_view_module_version": "1.5.0",
            "orientation": "horizontal",
            "min": 0,
            "description_tooltip": null,
            "_model_module": "@jupyter-widgets/controls",
            "layout": "IPY_MODEL_e786e3e6ae864c66b88ca15cb73f5632"
          }
        },
        "b00854d300454c92a8c4c193760b83e2": {
          "model_module": "@jupyter-widgets/controls",
          "model_name": "HTMLModel",
          "state": {
            "_view_name": "HTMLView",
            "style": "IPY_MODEL_c62868fb792f49aca2e61db77b5d3fcc",
            "_dom_classes": [],
            "description": "",
            "_model_name": "HTMLModel",
            "placeholder": "​",
            "_view_module": "@jupyter-widgets/controls",
            "_model_module_version": "1.5.0",
            "value": " 1050/1050 [30:12&lt;00:00,  1.73s/it]",
            "_view_count": null,
            "_view_module_version": "1.5.0",
            "description_tooltip": null,
            "_model_module": "@jupyter-widgets/controls",
            "layout": "IPY_MODEL_4a7b8a1200694132b80a034aa2e8e32b"
          }
        },
        "663423a8d39843688975e56780b4a4d3": {
          "model_module": "@jupyter-widgets/controls",
          "model_name": "ProgressStyleModel",
          "state": {
            "_view_name": "StyleView",
            "_model_name": "ProgressStyleModel",
            "description_width": "initial",
            "_view_module": "@jupyter-widgets/base",
            "_model_module_version": "1.5.0",
            "_view_count": null,
            "_view_module_version": "1.2.0",
            "bar_color": null,
            "_model_module": "@jupyter-widgets/controls"
          }
        },
        "e786e3e6ae864c66b88ca15cb73f5632": {
          "model_module": "@jupyter-widgets/base",
          "model_name": "LayoutModel",
          "state": {
            "_view_name": "LayoutView",
            "grid_template_rows": null,
            "right": null,
            "justify_content": null,
            "_view_module": "@jupyter-widgets/base",
            "overflow": null,
            "_model_module_version": "1.2.0",
            "_view_count": null,
            "flex_flow": null,
            "width": null,
            "min_width": null,
            "border": null,
            "align_items": null,
            "bottom": null,
            "_model_module": "@jupyter-widgets/base",
            "top": null,
            "grid_column": null,
            "overflow_y": null,
            "overflow_x": null,
            "grid_auto_flow": null,
            "grid_area": null,
            "grid_template_columns": null,
            "flex": null,
            "_model_name": "LayoutModel",
            "justify_items": null,
            "grid_row": null,
            "max_height": null,
            "align_content": null,
            "visibility": null,
            "align_self": null,
            "height": null,
            "min_height": null,
            "padding": null,
            "grid_auto_rows": null,
            "grid_gap": null,
            "max_width": null,
            "order": null,
            "_view_module_version": "1.2.0",
            "grid_template_areas": null,
            "object_position": null,
            "object_fit": null,
            "grid_auto_columns": null,
            "margin": null,
            "display": null,
            "left": null
          }
        },
        "c62868fb792f49aca2e61db77b5d3fcc": {
          "model_module": "@jupyter-widgets/controls",
          "model_name": "DescriptionStyleModel",
          "state": {
            "_view_name": "StyleView",
            "_model_name": "DescriptionStyleModel",
            "description_width": "",
            "_view_module": "@jupyter-widgets/base",
            "_model_module_version": "1.5.0",
            "_view_count": null,
            "_view_module_version": "1.2.0",
            "_model_module": "@jupyter-widgets/controls"
          }
        },
        "4a7b8a1200694132b80a034aa2e8e32b": {
          "model_module": "@jupyter-widgets/base",
          "model_name": "LayoutModel",
          "state": {
            "_view_name": "LayoutView",
            "grid_template_rows": null,
            "right": null,
            "justify_content": null,
            "_view_module": "@jupyter-widgets/base",
            "overflow": null,
            "_model_module_version": "1.2.0",
            "_view_count": null,
            "flex_flow": null,
            "width": null,
            "min_width": null,
            "border": null,
            "align_items": null,
            "bottom": null,
            "_model_module": "@jupyter-widgets/base",
            "top": null,
            "grid_column": null,
            "overflow_y": null,
            "overflow_x": null,
            "grid_auto_flow": null,
            "grid_area": null,
            "grid_template_columns": null,
            "flex": null,
            "_model_name": "LayoutModel",
            "justify_items": null,
            "grid_row": null,
            "max_height": null,
            "align_content": null,
            "visibility": null,
            "align_self": null,
            "height": null,
            "min_height": null,
            "padding": null,
            "grid_auto_rows": null,
            "grid_gap": null,
            "max_width": null,
            "order": null,
            "_view_module_version": "1.2.0",
            "grid_template_areas": null,
            "object_position": null,
            "object_fit": null,
            "grid_auto_columns": null,
            "margin": null,
            "display": null,
            "left": null
          }
        },
        "1f8bd8dbcb71432083a6561998649fd7": {
          "model_module": "@jupyter-widgets/controls",
          "model_name": "HBoxModel",
          "state": {
            "_view_name": "HBoxView",
            "_dom_classes": [],
            "_model_name": "HBoxModel",
            "_view_module": "@jupyter-widgets/controls",
            "_model_module_version": "1.5.0",
            "_view_count": null,
            "_view_module_version": "1.5.0",
            "box_style": "",
            "layout": "IPY_MODEL_79a30dc5098c415ba7bb6dccc27b39c7",
            "_model_module": "@jupyter-widgets/controls",
            "children": [
              "IPY_MODEL_d714089bc9cd4a709e8b93ee6d0b581a",
              "IPY_MODEL_0296a56f0b254baf8310481cef130cd0"
            ]
          }
        },
        "79a30dc5098c415ba7bb6dccc27b39c7": {
          "model_module": "@jupyter-widgets/base",
          "model_name": "LayoutModel",
          "state": {
            "_view_name": "LayoutView",
            "grid_template_rows": null,
            "right": null,
            "justify_content": null,
            "_view_module": "@jupyter-widgets/base",
            "overflow": null,
            "_model_module_version": "1.2.0",
            "_view_count": null,
            "flex_flow": null,
            "width": null,
            "min_width": null,
            "border": null,
            "align_items": null,
            "bottom": null,
            "_model_module": "@jupyter-widgets/base",
            "top": null,
            "grid_column": null,
            "overflow_y": null,
            "overflow_x": null,
            "grid_auto_flow": null,
            "grid_area": null,
            "grid_template_columns": null,
            "flex": null,
            "_model_name": "LayoutModel",
            "justify_items": null,
            "grid_row": null,
            "max_height": null,
            "align_content": null,
            "visibility": null,
            "align_self": null,
            "height": null,
            "min_height": null,
            "padding": null,
            "grid_auto_rows": null,
            "grid_gap": null,
            "max_width": null,
            "order": null,
            "_view_module_version": "1.2.0",
            "grid_template_areas": null,
            "object_position": null,
            "object_fit": null,
            "grid_auto_columns": null,
            "margin": null,
            "display": null,
            "left": null
          }
        },
        "d714089bc9cd4a709e8b93ee6d0b581a": {
          "model_module": "@jupyter-widgets/controls",
          "model_name": "FloatProgressModel",
          "state": {
            "_view_name": "ProgressView",
            "style": "IPY_MODEL_33959a434e9a4e8faf78186bcb68a6a7",
            "_dom_classes": [],
            "description": "iteration: 100%",
            "_model_name": "FloatProgressModel",
            "bar_style": "success",
            "max": 1050,
            "_view_module": "@jupyter-widgets/controls",
            "_model_module_version": "1.5.0",
            "value": 1050,
            "_view_count": null,
            "_view_module_version": "1.5.0",
            "orientation": "horizontal",
            "min": 0,
            "description_tooltip": null,
            "_model_module": "@jupyter-widgets/controls",
            "layout": "IPY_MODEL_af92e71c33ea4244be8955743ac0ff2b"
          }
        },
        "0296a56f0b254baf8310481cef130cd0": {
          "model_module": "@jupyter-widgets/controls",
          "model_name": "HTMLModel",
          "state": {
            "_view_name": "HTMLView",
            "style": "IPY_MODEL_b71e6bf8122140edadc6ec2323c432f0",
            "_dom_classes": [],
            "description": "",
            "_model_name": "HTMLModel",
            "placeholder": "​",
            "_view_module": "@jupyter-widgets/controls",
            "_model_module_version": "1.5.0",
            "value": " 1050/1050 [30:22&lt;00:00,  1.74s/it]",
            "_view_count": null,
            "_view_module_version": "1.5.0",
            "description_tooltip": null,
            "_model_module": "@jupyter-widgets/controls",
            "layout": "IPY_MODEL_54785df6ec59419c8b7a908310557cf3"
          }
        },
        "33959a434e9a4e8faf78186bcb68a6a7": {
          "model_module": "@jupyter-widgets/controls",
          "model_name": "ProgressStyleModel",
          "state": {
            "_view_name": "StyleView",
            "_model_name": "ProgressStyleModel",
            "description_width": "initial",
            "_view_module": "@jupyter-widgets/base",
            "_model_module_version": "1.5.0",
            "_view_count": null,
            "_view_module_version": "1.2.0",
            "bar_color": null,
            "_model_module": "@jupyter-widgets/controls"
          }
        },
        "af92e71c33ea4244be8955743ac0ff2b": {
          "model_module": "@jupyter-widgets/base",
          "model_name": "LayoutModel",
          "state": {
            "_view_name": "LayoutView",
            "grid_template_rows": null,
            "right": null,
            "justify_content": null,
            "_view_module": "@jupyter-widgets/base",
            "overflow": null,
            "_model_module_version": "1.2.0",
            "_view_count": null,
            "flex_flow": null,
            "width": null,
            "min_width": null,
            "border": null,
            "align_items": null,
            "bottom": null,
            "_model_module": "@jupyter-widgets/base",
            "top": null,
            "grid_column": null,
            "overflow_y": null,
            "overflow_x": null,
            "grid_auto_flow": null,
            "grid_area": null,
            "grid_template_columns": null,
            "flex": null,
            "_model_name": "LayoutModel",
            "justify_items": null,
            "grid_row": null,
            "max_height": null,
            "align_content": null,
            "visibility": null,
            "align_self": null,
            "height": null,
            "min_height": null,
            "padding": null,
            "grid_auto_rows": null,
            "grid_gap": null,
            "max_width": null,
            "order": null,
            "_view_module_version": "1.2.0",
            "grid_template_areas": null,
            "object_position": null,
            "object_fit": null,
            "grid_auto_columns": null,
            "margin": null,
            "display": null,
            "left": null
          }
        },
        "b71e6bf8122140edadc6ec2323c432f0": {
          "model_module": "@jupyter-widgets/controls",
          "model_name": "DescriptionStyleModel",
          "state": {
            "_view_name": "StyleView",
            "_model_name": "DescriptionStyleModel",
            "description_width": "",
            "_view_module": "@jupyter-widgets/base",
            "_model_module_version": "1.5.0",
            "_view_count": null,
            "_view_module_version": "1.2.0",
            "_model_module": "@jupyter-widgets/controls"
          }
        },
        "54785df6ec59419c8b7a908310557cf3": {
          "model_module": "@jupyter-widgets/base",
          "model_name": "LayoutModel",
          "state": {
            "_view_name": "LayoutView",
            "grid_template_rows": null,
            "right": null,
            "justify_content": null,
            "_view_module": "@jupyter-widgets/base",
            "overflow": null,
            "_model_module_version": "1.2.0",
            "_view_count": null,
            "flex_flow": null,
            "width": null,
            "min_width": null,
            "border": null,
            "align_items": null,
            "bottom": null,
            "_model_module": "@jupyter-widgets/base",
            "top": null,
            "grid_column": null,
            "overflow_y": null,
            "overflow_x": null,
            "grid_auto_flow": null,
            "grid_area": null,
            "grid_template_columns": null,
            "flex": null,
            "_model_name": "LayoutModel",
            "justify_items": null,
            "grid_row": null,
            "max_height": null,
            "align_content": null,
            "visibility": null,
            "align_self": null,
            "height": null,
            "min_height": null,
            "padding": null,
            "grid_auto_rows": null,
            "grid_gap": null,
            "max_width": null,
            "order": null,
            "_view_module_version": "1.2.0",
            "grid_template_areas": null,
            "object_position": null,
            "object_fit": null,
            "grid_auto_columns": null,
            "margin": null,
            "display": null,
            "left": null
          }
        },
        "134cd1c9d74f4c7dad6d3ad8780eb086": {
          "model_module": "@jupyter-widgets/controls",
          "model_name": "HBoxModel",
          "state": {
            "_view_name": "HBoxView",
            "_dom_classes": [],
            "_model_name": "HBoxModel",
            "_view_module": "@jupyter-widgets/controls",
            "_model_module_version": "1.5.0",
            "_view_count": null,
            "_view_module_version": "1.5.0",
            "box_style": "",
            "layout": "IPY_MODEL_6746f76ef39b465aa04e0ec0b12a7af7",
            "_model_module": "@jupyter-widgets/controls",
            "children": [
              "IPY_MODEL_0e752b8e4c284aa295a3088ca80e45d8",
              "IPY_MODEL_d3a35f5512cb4d14987d20a838bde011"
            ]
          }
        },
        "6746f76ef39b465aa04e0ec0b12a7af7": {
          "model_module": "@jupyter-widgets/base",
          "model_name": "LayoutModel",
          "state": {
            "_view_name": "LayoutView",
            "grid_template_rows": null,
            "right": null,
            "justify_content": null,
            "_view_module": "@jupyter-widgets/base",
            "overflow": null,
            "_model_module_version": "1.2.0",
            "_view_count": null,
            "flex_flow": null,
            "width": null,
            "min_width": null,
            "border": null,
            "align_items": null,
            "bottom": null,
            "_model_module": "@jupyter-widgets/base",
            "top": null,
            "grid_column": null,
            "overflow_y": null,
            "overflow_x": null,
            "grid_auto_flow": null,
            "grid_area": null,
            "grid_template_columns": null,
            "flex": null,
            "_model_name": "LayoutModel",
            "justify_items": null,
            "grid_row": null,
            "max_height": null,
            "align_content": null,
            "visibility": null,
            "align_self": null,
            "height": null,
            "min_height": null,
            "padding": null,
            "grid_auto_rows": null,
            "grid_gap": null,
            "max_width": null,
            "order": null,
            "_view_module_version": "1.2.0",
            "grid_template_areas": null,
            "object_position": null,
            "object_fit": null,
            "grid_auto_columns": null,
            "margin": null,
            "display": null,
            "left": null
          }
        },
        "0e752b8e4c284aa295a3088ca80e45d8": {
          "model_module": "@jupyter-widgets/controls",
          "model_name": "FloatProgressModel",
          "state": {
            "_view_name": "ProgressView",
            "style": "IPY_MODEL_243ab9f2ddb74fcfb6870bb05f166b06",
            "_dom_classes": [],
            "description": "iteration: 100%",
            "_model_name": "FloatProgressModel",
            "bar_style": "success",
            "max": 1050,
            "_view_module": "@jupyter-widgets/controls",
            "_model_module_version": "1.5.0",
            "value": 1050,
            "_view_count": null,
            "_view_module_version": "1.5.0",
            "orientation": "horizontal",
            "min": 0,
            "description_tooltip": null,
            "_model_module": "@jupyter-widgets/controls",
            "layout": "IPY_MODEL_1dd6828d7cbd4cc9ab0e0072bbf676ee"
          }
        },
        "d3a35f5512cb4d14987d20a838bde011": {
          "model_module": "@jupyter-widgets/controls",
          "model_name": "HTMLModel",
          "state": {
            "_view_name": "HTMLView",
            "style": "IPY_MODEL_59f083a75419447f953ed689c788fd2d",
            "_dom_classes": [],
            "description": "",
            "_model_name": "HTMLModel",
            "placeholder": "​",
            "_view_module": "@jupyter-widgets/controls",
            "_model_module_version": "1.5.0",
            "value": " 1050/1050 [30:26&lt;00:00,  1.74s/it]",
            "_view_count": null,
            "_view_module_version": "1.5.0",
            "description_tooltip": null,
            "_model_module": "@jupyter-widgets/controls",
            "layout": "IPY_MODEL_c6b26a94e5564d21adcd44ec19bb1f74"
          }
        },
        "243ab9f2ddb74fcfb6870bb05f166b06": {
          "model_module": "@jupyter-widgets/controls",
          "model_name": "ProgressStyleModel",
          "state": {
            "_view_name": "StyleView",
            "_model_name": "ProgressStyleModel",
            "description_width": "initial",
            "_view_module": "@jupyter-widgets/base",
            "_model_module_version": "1.5.0",
            "_view_count": null,
            "_view_module_version": "1.2.0",
            "bar_color": null,
            "_model_module": "@jupyter-widgets/controls"
          }
        },
        "1dd6828d7cbd4cc9ab0e0072bbf676ee": {
          "model_module": "@jupyter-widgets/base",
          "model_name": "LayoutModel",
          "state": {
            "_view_name": "LayoutView",
            "grid_template_rows": null,
            "right": null,
            "justify_content": null,
            "_view_module": "@jupyter-widgets/base",
            "overflow": null,
            "_model_module_version": "1.2.0",
            "_view_count": null,
            "flex_flow": null,
            "width": null,
            "min_width": null,
            "border": null,
            "align_items": null,
            "bottom": null,
            "_model_module": "@jupyter-widgets/base",
            "top": null,
            "grid_column": null,
            "overflow_y": null,
            "overflow_x": null,
            "grid_auto_flow": null,
            "grid_area": null,
            "grid_template_columns": null,
            "flex": null,
            "_model_name": "LayoutModel",
            "justify_items": null,
            "grid_row": null,
            "max_height": null,
            "align_content": null,
            "visibility": null,
            "align_self": null,
            "height": null,
            "min_height": null,
            "padding": null,
            "grid_auto_rows": null,
            "grid_gap": null,
            "max_width": null,
            "order": null,
            "_view_module_version": "1.2.0",
            "grid_template_areas": null,
            "object_position": null,
            "object_fit": null,
            "grid_auto_columns": null,
            "margin": null,
            "display": null,
            "left": null
          }
        },
        "59f083a75419447f953ed689c788fd2d": {
          "model_module": "@jupyter-widgets/controls",
          "model_name": "DescriptionStyleModel",
          "state": {
            "_view_name": "StyleView",
            "_model_name": "DescriptionStyleModel",
            "description_width": "",
            "_view_module": "@jupyter-widgets/base",
            "_model_module_version": "1.5.0",
            "_view_count": null,
            "_view_module_version": "1.2.0",
            "_model_module": "@jupyter-widgets/controls"
          }
        },
        "c6b26a94e5564d21adcd44ec19bb1f74": {
          "model_module": "@jupyter-widgets/base",
          "model_name": "LayoutModel",
          "state": {
            "_view_name": "LayoutView",
            "grid_template_rows": null,
            "right": null,
            "justify_content": null,
            "_view_module": "@jupyter-widgets/base",
            "overflow": null,
            "_model_module_version": "1.2.0",
            "_view_count": null,
            "flex_flow": null,
            "width": null,
            "min_width": null,
            "border": null,
            "align_items": null,
            "bottom": null,
            "_model_module": "@jupyter-widgets/base",
            "top": null,
            "grid_column": null,
            "overflow_y": null,
            "overflow_x": null,
            "grid_auto_flow": null,
            "grid_area": null,
            "grid_template_columns": null,
            "flex": null,
            "_model_name": "LayoutModel",
            "justify_items": null,
            "grid_row": null,
            "max_height": null,
            "align_content": null,
            "visibility": null,
            "align_self": null,
            "height": null,
            "min_height": null,
            "padding": null,
            "grid_auto_rows": null,
            "grid_gap": null,
            "max_width": null,
            "order": null,
            "_view_module_version": "1.2.0",
            "grid_template_areas": null,
            "object_position": null,
            "object_fit": null,
            "grid_auto_columns": null,
            "margin": null,
            "display": null,
            "left": null
          }
        },
        "4c627ce75b1a4798bf5dc9948c3becb1": {
          "model_module": "@jupyter-widgets/controls",
          "model_name": "HBoxModel",
          "state": {
            "_view_name": "HBoxView",
            "_dom_classes": [],
            "_model_name": "HBoxModel",
            "_view_module": "@jupyter-widgets/controls",
            "_model_module_version": "1.5.0",
            "_view_count": null,
            "_view_module_version": "1.5.0",
            "box_style": "",
            "layout": "IPY_MODEL_a24402c9a851467090d4e294b51ecd96",
            "_model_module": "@jupyter-widgets/controls",
            "children": [
              "IPY_MODEL_2997fe03ce634b738625074119cc21f8",
              "IPY_MODEL_24037810f2f84b9fae680ee664da96ed"
            ]
          }
        },
        "a24402c9a851467090d4e294b51ecd96": {
          "model_module": "@jupyter-widgets/base",
          "model_name": "LayoutModel",
          "state": {
            "_view_name": "LayoutView",
            "grid_template_rows": null,
            "right": null,
            "justify_content": null,
            "_view_module": "@jupyter-widgets/base",
            "overflow": null,
            "_model_module_version": "1.2.0",
            "_view_count": null,
            "flex_flow": null,
            "width": null,
            "min_width": null,
            "border": null,
            "align_items": null,
            "bottom": null,
            "_model_module": "@jupyter-widgets/base",
            "top": null,
            "grid_column": null,
            "overflow_y": null,
            "overflow_x": null,
            "grid_auto_flow": null,
            "grid_area": null,
            "grid_template_columns": null,
            "flex": null,
            "_model_name": "LayoutModel",
            "justify_items": null,
            "grid_row": null,
            "max_height": null,
            "align_content": null,
            "visibility": null,
            "align_self": null,
            "height": null,
            "min_height": null,
            "padding": null,
            "grid_auto_rows": null,
            "grid_gap": null,
            "max_width": null,
            "order": null,
            "_view_module_version": "1.2.0",
            "grid_template_areas": null,
            "object_position": null,
            "object_fit": null,
            "grid_auto_columns": null,
            "margin": null,
            "display": null,
            "left": null
          }
        },
        "2997fe03ce634b738625074119cc21f8": {
          "model_module": "@jupyter-widgets/controls",
          "model_name": "FloatProgressModel",
          "state": {
            "_view_name": "ProgressView",
            "style": "IPY_MODEL_5b6eea46d27148a5bab9c38eb0a8dfc0",
            "_dom_classes": [],
            "description": "iteration:  44%",
            "_model_name": "FloatProgressModel",
            "bar_style": "",
            "max": 1050,
            "_view_module": "@jupyter-widgets/controls",
            "_model_module_version": "1.5.0",
            "value": 468,
            "_view_count": null,
            "_view_module_version": "1.5.0",
            "orientation": "horizontal",
            "min": 0,
            "description_tooltip": null,
            "_model_module": "@jupyter-widgets/controls",
            "layout": "IPY_MODEL_f1591ac5e13940ad889352781ad516ef"
          }
        },
        "24037810f2f84b9fae680ee664da96ed": {
          "model_module": "@jupyter-widgets/controls",
          "model_name": "HTMLModel",
          "state": {
            "_view_name": "HTMLView",
            "style": "IPY_MODEL_8644c993e8544096af725a0d67eb2920",
            "_dom_classes": [],
            "description": "",
            "_model_name": "HTMLModel",
            "placeholder": "​",
            "_view_module": "@jupyter-widgets/controls",
            "_model_module_version": "1.5.0",
            "value": " 467/1050 [13:32&lt;16:58,  1.75s/it]",
            "_view_count": null,
            "_view_module_version": "1.5.0",
            "description_tooltip": null,
            "_model_module": "@jupyter-widgets/controls",
            "layout": "IPY_MODEL_375ff58ad2ca4cc99b5313b80541c371"
          }
        },
        "5b6eea46d27148a5bab9c38eb0a8dfc0": {
          "model_module": "@jupyter-widgets/controls",
          "model_name": "ProgressStyleModel",
          "state": {
            "_view_name": "StyleView",
            "_model_name": "ProgressStyleModel",
            "description_width": "initial",
            "_view_module": "@jupyter-widgets/base",
            "_model_module_version": "1.5.0",
            "_view_count": null,
            "_view_module_version": "1.2.0",
            "bar_color": null,
            "_model_module": "@jupyter-widgets/controls"
          }
        },
        "f1591ac5e13940ad889352781ad516ef": {
          "model_module": "@jupyter-widgets/base",
          "model_name": "LayoutModel",
          "state": {
            "_view_name": "LayoutView",
            "grid_template_rows": null,
            "right": null,
            "justify_content": null,
            "_view_module": "@jupyter-widgets/base",
            "overflow": null,
            "_model_module_version": "1.2.0",
            "_view_count": null,
            "flex_flow": null,
            "width": null,
            "min_width": null,
            "border": null,
            "align_items": null,
            "bottom": null,
            "_model_module": "@jupyter-widgets/base",
            "top": null,
            "grid_column": null,
            "overflow_y": null,
            "overflow_x": null,
            "grid_auto_flow": null,
            "grid_area": null,
            "grid_template_columns": null,
            "flex": null,
            "_model_name": "LayoutModel",
            "justify_items": null,
            "grid_row": null,
            "max_height": null,
            "align_content": null,
            "visibility": null,
            "align_self": null,
            "height": null,
            "min_height": null,
            "padding": null,
            "grid_auto_rows": null,
            "grid_gap": null,
            "max_width": null,
            "order": null,
            "_view_module_version": "1.2.0",
            "grid_template_areas": null,
            "object_position": null,
            "object_fit": null,
            "grid_auto_columns": null,
            "margin": null,
            "display": null,
            "left": null
          }
        },
        "8644c993e8544096af725a0d67eb2920": {
          "model_module": "@jupyter-widgets/controls",
          "model_name": "DescriptionStyleModel",
          "state": {
            "_view_name": "StyleView",
            "_model_name": "DescriptionStyleModel",
            "description_width": "",
            "_view_module": "@jupyter-widgets/base",
            "_model_module_version": "1.5.0",
            "_view_count": null,
            "_view_module_version": "1.2.0",
            "_model_module": "@jupyter-widgets/controls"
          }
        },
        "375ff58ad2ca4cc99b5313b80541c371": {
          "model_module": "@jupyter-widgets/base",
          "model_name": "LayoutModel",
          "state": {
            "_view_name": "LayoutView",
            "grid_template_rows": null,
            "right": null,
            "justify_content": null,
            "_view_module": "@jupyter-widgets/base",
            "overflow": null,
            "_model_module_version": "1.2.0",
            "_view_count": null,
            "flex_flow": null,
            "width": null,
            "min_width": null,
            "border": null,
            "align_items": null,
            "bottom": null,
            "_model_module": "@jupyter-widgets/base",
            "top": null,
            "grid_column": null,
            "overflow_y": null,
            "overflow_x": null,
            "grid_auto_flow": null,
            "grid_area": null,
            "grid_template_columns": null,
            "flex": null,
            "_model_name": "LayoutModel",
            "justify_items": null,
            "grid_row": null,
            "max_height": null,
            "align_content": null,
            "visibility": null,
            "align_self": null,
            "height": null,
            "min_height": null,
            "padding": null,
            "grid_auto_rows": null,
            "grid_gap": null,
            "max_width": null,
            "order": null,
            "_view_module_version": "1.2.0",
            "grid_template_areas": null,
            "object_position": null,
            "object_fit": null,
            "grid_auto_columns": null,
            "margin": null,
            "display": null,
            "left": null
          }
        }
      }
    }
  },
  "cells": [
    {
      "cell_type": "code",
      "metadata": {
        "colab": {
          "base_uri": "https://localhost:8080/"
        },
        "id": "YpRu6LTR2LbD",
        "outputId": "3fb353e0-4514-43ee-d005-96ecded86647"
      },
      "source": [
        "!pip install deep-daze --upgrade"
      ],
      "execution_count": null,
      "outputs": [
        {
          "output_type": "stream",
          "text": [
            "Collecting deep-daze\n",
            "\u001b[?25l  Downloading https://files.pythonhosted.org/packages/90/14/a3288dab1a71fe6d9267456120d263f57d9f7d0efa42a3fef4a4ef52e95e/deep_daze-0.10.2-py3-none-any.whl (1.4MB)\n",
            "\u001b[K     |████████████████████████████████| 1.4MB 7.6MB/s \n",
            "\u001b[?25hRequirement already satisfied, skipping upgrade: regex in /usr/local/lib/python3.7/dist-packages (from deep-daze) (2019.12.20)\n",
            "Collecting imageio>=2.9.0\n",
            "\u001b[?25l  Downloading https://files.pythonhosted.org/packages/6e/57/5d899fae74c1752f52869b613a8210a2480e1a69688e65df6cb26117d45d/imageio-2.9.0-py3-none-any.whl (3.3MB)\n",
            "\u001b[K     |████████████████████████████████| 3.3MB 46.6MB/s \n",
            "\u001b[?25hRequirement already satisfied, skipping upgrade: torch>=1.7.1 in /usr/local/lib/python3.7/dist-packages (from deep-daze) (1.8.1+cu101)\n",
            "Requirement already satisfied, skipping upgrade: torchvision>=0.8.2 in /usr/local/lib/python3.7/dist-packages (from deep-daze) (0.9.1+cu101)\n",
            "Collecting ftfy\n",
            "\u001b[?25l  Downloading https://files.pythonhosted.org/packages/af/da/d215a091986e5f01b80f5145cff6f22e2dc57c6b048aab2e882a07018473/ftfy-6.0.3.tar.gz (64kB)\n",
            "\u001b[K     |████████████████████████████████| 71kB 10.8MB/s \n",
            "\u001b[?25hCollecting siren-pytorch>=0.0.8\n",
            "  Downloading https://files.pythonhosted.org/packages/22/c9/780061018c410ad5af5eae0a98e46eed3379beca51dde8b538b385b1bc7d/siren_pytorch-0.1.5-py3-none-any.whl\n",
            "Collecting torch-optimizer\n",
            "\u001b[?25l  Downloading https://files.pythonhosted.org/packages/af/0f/bc49a0f714a1896b80f31db9ba82eebcb2bad9e0f5757184574f8ecfe2f1/torch_optimizer-0.1.0-py3-none-any.whl (72kB)\n",
            "\u001b[K     |████████████████████████████████| 81kB 12.1MB/s \n",
            "\u001b[?25hRequirement already satisfied, skipping upgrade: tqdm in /usr/local/lib/python3.7/dist-packages (from deep-daze) (4.41.1)\n",
            "Collecting einops>=0.3\n",
            "  Downloading https://files.pythonhosted.org/packages/5d/a0/9935e030634bf60ecd572c775f64ace82ceddf2f504a5fd3902438f07090/einops-0.3.0-py2.py3-none-any.whl\n",
            "Collecting fire\n",
            "\u001b[?25l  Downloading https://files.pythonhosted.org/packages/11/07/a119a1aa04d37bc819940d95ed7e135a7dcca1c098123a3764a6dcace9e7/fire-0.4.0.tar.gz (87kB)\n",
            "\u001b[K     |████████████████████████████████| 92kB 12.6MB/s \n",
            "\u001b[?25hRequirement already satisfied, skipping upgrade: pillow in /usr/local/lib/python3.7/dist-packages (from imageio>=2.9.0->deep-daze) (7.1.2)\n",
            "Requirement already satisfied, skipping upgrade: numpy in /usr/local/lib/python3.7/dist-packages (from imageio>=2.9.0->deep-daze) (1.19.5)\n",
            "Requirement already satisfied, skipping upgrade: typing-extensions in /usr/local/lib/python3.7/dist-packages (from torch>=1.7.1->deep-daze) (3.7.4.3)\n",
            "Requirement already satisfied, skipping upgrade: wcwidth in /usr/local/lib/python3.7/dist-packages (from ftfy->deep-daze) (0.2.5)\n",
            "Collecting pytorch-ranger>=0.1.1\n",
            "  Downloading https://files.pythonhosted.org/packages/0d/70/12256257d861bbc3e176130d25be1de085ce7a9e60594064888a950f2154/pytorch_ranger-0.1.1-py3-none-any.whl\n",
            "Requirement already satisfied, skipping upgrade: six in /usr/local/lib/python3.7/dist-packages (from fire->deep-daze) (1.15.0)\n",
            "Requirement already satisfied, skipping upgrade: termcolor in /usr/local/lib/python3.7/dist-packages (from fire->deep-daze) (1.1.0)\n",
            "Building wheels for collected packages: ftfy, fire\n",
            "  Building wheel for ftfy (setup.py) ... \u001b[?25l\u001b[?25hdone\n",
            "  Created wheel for ftfy: filename=ftfy-6.0.3-cp37-none-any.whl size=41916 sha256=6cbce656d86fc836d9d31d29af12264288ab3bcdb49d8bb5c6448a8b2c478b2c\n",
            "  Stored in directory: /root/.cache/pip/wheels/99/2c/e6/109c8a28fef7a443f67ba58df21fe1d0067ac3322e75e6b0b7\n",
            "  Building wheel for fire (setup.py) ... \u001b[?25l\u001b[?25hdone\n",
            "  Created wheel for fire: filename=fire-0.4.0-py2.py3-none-any.whl size=115928 sha256=cd529b89f48a88741055fe02c41e89cbd8961ad94efc671c0abbd25f36aade3b\n",
            "  Stored in directory: /root/.cache/pip/wheels/af/19/30/1ea0cad502dcb4e66ed5a690279628c827aea38bbbab75d5ed\n",
            "Successfully built ftfy fire\n",
            "\u001b[31mERROR: albumentations 0.1.12 has requirement imgaug<0.2.7,>=0.2.5, but you'll have imgaug 0.2.9 which is incompatible.\u001b[0m\n",
            "Installing collected packages: imageio, ftfy, einops, siren-pytorch, pytorch-ranger, torch-optimizer, fire, deep-daze\n",
            "  Found existing installation: imageio 2.4.1\n",
            "    Uninstalling imageio-2.4.1:\n",
            "      Successfully uninstalled imageio-2.4.1\n",
            "Successfully installed deep-daze-0.10.2 einops-0.3.0 fire-0.4.0 ftfy-6.0.3 imageio-2.9.0 pytorch-ranger-0.1.1 siren-pytorch-0.1.5 torch-optimizer-0.1.0\n"
          ],
          "name": "stdout"
        }
      ]
    },
    {
      "cell_type": "code",
      "metadata": {
        "colab": {
          "base_uri": "https://localhost:8080/",
          "height": 1000,
          "referenced_widgets": [
            "df89d21d4a87404aa76254250adc7710",
            "3b2197a5bb60479f80fcd45244a014d5",
            "2a75bb7381e84b81b29b6a6c24206987",
            "ca9aab0f920440748cf9b07aa7f4e8c5",
            "aeb40042522745789113613d01371da9",
            "65ac0f3e77c0435bba59bd658a630854",
            "c11fa28f667e45d9b326b693df79fc8f",
            "b78c0cfc2ff2460fa57f21db3310833d",
            "e586390c2dba4ee1b3b21638f2574977",
            "33c2b2f5e0974465afbac5dec13c5686",
            "fff10fd200ca40fc84875ae672a5f29e",
            "b00854d300454c92a8c4c193760b83e2",
            "663423a8d39843688975e56780b4a4d3",
            "e786e3e6ae864c66b88ca15cb73f5632",
            "c62868fb792f49aca2e61db77b5d3fcc",
            "4a7b8a1200694132b80a034aa2e8e32b",
            "1f8bd8dbcb71432083a6561998649fd7",
            "79a30dc5098c415ba7bb6dccc27b39c7",
            "d714089bc9cd4a709e8b93ee6d0b581a",
            "0296a56f0b254baf8310481cef130cd0",
            "33959a434e9a4e8faf78186bcb68a6a7",
            "af92e71c33ea4244be8955743ac0ff2b",
            "b71e6bf8122140edadc6ec2323c432f0",
            "54785df6ec59419c8b7a908310557cf3",
            "134cd1c9d74f4c7dad6d3ad8780eb086",
            "6746f76ef39b465aa04e0ec0b12a7af7",
            "0e752b8e4c284aa295a3088ca80e45d8",
            "d3a35f5512cb4d14987d20a838bde011",
            "243ab9f2ddb74fcfb6870bb05f166b06",
            "1dd6828d7cbd4cc9ab0e0072bbf676ee",
            "59f083a75419447f953ed689c788fd2d",
            "c6b26a94e5564d21adcd44ec19bb1f74",
            "4c627ce75b1a4798bf5dc9948c3becb1",
            "a24402c9a851467090d4e294b51ecd96",
            "2997fe03ce634b738625074119cc21f8",
            "24037810f2f84b9fae680ee664da96ed",
            "5b6eea46d27148a5bab9c38eb0a8dfc0",
            "f1591ac5e13940ad889352781ad516ef",
            "8644c993e8544096af725a0d67eb2920",
            "375ff58ad2ca4cc99b5313b80541c371"
          ]
        },
        "id": "6IPQ_rdA2Sa7",
        "outputId": "5f58eeb8-a8a1-4f81-b823-5d2535c35b56"
      },
      "source": [
        "from tqdm.notebook import trange\n",
        "from IPython.display import Image, display\n",
        "\n",
        "from deep_daze import Imagine\n",
        "\n",
        "TEXT = 'The prince was wise and kind. He gave her the tools she needed to live a happy and fulfilling life.' #@param {type:\"string\"}\n",
        "NUM_LAYERS = 32 #@param {type:\"number\"}\n",
        "SAVE_EVERY =  20#@param {type:\"number\"}\n",
        "IMAGE_WIDTH = 512 #@param {type:\"number\"}\n",
        "SAVE_PROGRESS = True #@param {type:\"boolean\"}\n",
        "LEARNING_RATE = 1e-5 #@param {type:\"number\"}\n",
        "ITERATIONS = 1050 #@param {type:\"number\"}\n",
        "\n",
        "model = Imagine(\n",
        "    text = TEXT,\n",
        "    num_layers = NUM_LAYERS,\n",
        "    save_every = SAVE_EVERY,\n",
        "    image_width = IMAGE_WIDTH,\n",
        "    lr = LEARNING_RATE,\n",
        "    iterations = ITERATIONS,\n",
        "    save_progress = SAVE_PROGRESS\n",
        ")\n",
        "\n",
        "for epoch in trange(20, desc = 'epochs'):\n",
        "    for i in trange(ITERATIONS, desc = 'iteration'):\n",
        "        model.train_step(epoch, i)\n",
        "\n",
        "        if i % model.save_every != 0:\n",
        "            continue\n",
        "\n",
        "        filename = TEXT.replace(' ', '_')\n",
        "        image = Image(f'./{filename}.jpg')\n",
        "        display(image)"
      ],
      "execution_count": null,
      "outputs": [
        {
          "output_type": "stream",
          "text": [
            "\rDownloading ViT-B-32.pt:   0%|          | 0.00/354M [00:00<?, ?iB/s]"
          ],
          "name": "stderr"
        },
        {
          "output_type": "stream",
          "text": [
            "Setting jit to False because torch version is not 1.7.1.\n"
          ],
          "name": "stdout"
        },
        {
          "output_type": "stream",
          "text": [
            "Downloading ViT-B-32.pt: 100%|██████████| 354M/354M [00:05<00:00, 64.8MiB/s]\n"
          ],
          "name": "stderr"
        },
        {
          "output_type": "display_data",
          "data": {
            "application/vnd.jupyter.widget-view+json": {
              "model_id": "df89d21d4a87404aa76254250adc7710",
              "version_major": 2,
              "version_minor": 0
            },
            "text/plain": [
              "HBox(children=(FloatProgress(value=0.0, description='epochs', max=20.0, style=ProgressStyle(description_width=…"
            ]
          },
          "metadata": {
            "tags": []
          }
        },
        {
          "output_type": "display_data",
          "data": {
            "application/vnd.jupyter.widget-view+json": {
              "model_id": "e586390c2dba4ee1b3b21638f2574977",
              "version_major": 2,
              "version_minor": 0
            },
            "text/plain": [
              "HBox(children=(FloatProgress(value=0.0, description='iteration', max=1050.0, style=ProgressStyle(description_w…"
            ]
          },
          "metadata": {
            "tags": []
          }
        },
        {
          "output_type": "stream",
          "text": [
            "\r\rimage updated at \"./The_prince_was_wise_and_kind._He_gave_her_the_tools_she_needed_to_live_a_happ.jpg\"\n"
          ],
          "name": "stdout"
        },
        {
          "output_type": "display_data",
          "data": {
            "image/png": "./The_prince_was_wise_and_kind._He_gave_her_the_tools_she_needed_to_live_a_happy_and_fulfilling_life..jpg",
            "text/plain": [
              "<IPython.core.display.Image object>"
            ]
          },
          "metadata": {
            "tags": []
          }
        },
        {
          "output_type": "stream",
          "text": [
            "\r\rimage updated at \"./The_prince_was_wise_and_kind._He_gave_her_the_tools_she_needed_to_live_a_happ.000001.jpg\"\n"
          ],
          "name": "stdout"
        },
        {
          "output_type": "display_data",
          "data": {
            "image/png": "./The_prince_was_wise_and_kind._He_gave_her_the_tools_she_needed_to_live_a_happy_and_fulfilling_life..jpg",
            "text/plain": [
              "<IPython.core.display.Image object>"
            ]
          },
          "metadata": {
            "tags": []
          }
        },
        {
          "output_type": "stream",
          "text": [
            "\r\rimage updated at \"./The_prince_was_wise_and_kind._He_gave_her_the_tools_she_needed_to_live_a_happ.000002.jpg\"\n"
          ],
          "name": "stdout"
        },
        {
          "output_type": "display_data",
          "data": {
            "image/png": "./The_prince_was_wise_and_kind._He_gave_her_the_tools_she_needed_to_live_a_happy_and_fulfilling_life..jpg",
            "text/plain": [
              "<IPython.core.display.Image object>"
            ]
          },
          "metadata": {
            "tags": []
          }
        },
        {
          "output_type": "stream",
          "text": [
            "\r\rimage updated at \"./The_prince_was_wise_and_kind._He_gave_her_the_tools_she_needed_to_live_a_happ.000003.jpg\"\n"
          ],
          "name": "stdout"
        },
        {
          "output_type": "display_data",
          "data": {
            "image/png": "./The_prince_was_wise_and_kind._He_gave_her_the_tools_she_needed_to_live_a_happy_and_fulfilling_life..jpg",
            "text/plain": [
              "<IPython.core.display.Image object>"
            ]
          },
          "metadata": {
            "tags": []
          }
        },
        {
          "output_type": "stream",
          "text": [
            "\r\rimage updated at \"./The_prince_was_wise_and_kind._He_gave_her_the_tools_she_needed_to_live_a_happ.000004.jpg\"\n"
          ],
          "name": "stdout"
        },
        {
          "output_type": "display_data",
          "data": {
            "image/png": "./The_prince_was_wise_and_kind._He_gave_her_the_tools_she_needed_to_live_a_happy_and_fulfilling_life..jpg",
            "text/plain": [
              "<IPython.core.display.Image object>"
            ]
          },
          "metadata": {
            "tags": []
          }
        },
        {
          "output_type": "stream",
          "text": [
            "\r\rimage updated at \"./The_prince_was_wise_and_kind._He_gave_her_the_tools_she_needed_to_live_a_happ.000005.jpg\"\n"
          ],
          "name": "stdout"
        },
        {
          "output_type": "display_data",
          "data": {
            "image/png": "./The_prince_was_wise_and_kind._He_gave_her_the_tools_she_needed_to_live_a_happy_and_fulfilling_life..jpg",
            "text/plain": [
              "<IPython.core.display.Image object>"
            ]
          },
          "metadata": {
            "tags": []
          }
        },
        {
          "output_type": "stream",
          "text": [
            "\r\rimage updated at \"./The_prince_was_wise_and_kind._He_gave_her_the_tools_she_needed_to_live_a_happ.000006.jpg\"\n"
          ],
          "name": "stdout"
        },
        {
          "output_type": "display_data",
          "data": {
            "image/png": "./The_prince_was_wise_and_kind._He_gave_her_the_tools_she_needed_to_live_a_happy_and_fulfilling_life..jpg",
            "text/plain": [
              "<IPython.core.display.Image object>"
            ]
          },
          "metadata": {
            "tags": []
          }
        },
        {
          "output_type": "stream",
          "text": [
            "\r\rimage updated at \"./The_prince_was_wise_and_kind._He_gave_her_the_tools_she_needed_to_live_a_happ.000007.jpg\"\n"
          ],
          "name": "stdout"
        },
        {
          "output_type": "display_data",
          "data": {
            "image/png": "./The_prince_was_wise_and_kind._He_gave_her_the_tools_she_needed_to_live_a_happy_and_fulfilling_life..jpg",
            "text/plain": [
              "<IPython.core.display.Image object>"
            ]
          },
          "metadata": {
            "tags": []
          }
        },
        {
          "output_type": "stream",
          "text": [
            "\r\rimage updated at \"./The_prince_was_wise_and_kind._He_gave_her_the_tools_she_needed_to_live_a_happ.000008.jpg\"\n"
          ],
          "name": "stdout"
        },
        {
          "output_type": "display_data",
          "data": {
            "image/png": "./The_prince_was_wise_and_kind._He_gave_her_the_tools_she_needed_to_live_a_happy_and_fulfilling_life..jpg",
            "text/plain": [
              "<IPython.core.display.Image object>"
            ]
          },
          "metadata": {
            "tags": []
          }
        },
        {
          "output_type": "stream",
          "text": [
            "\r\rimage updated at \"./The_prince_was_wise_and_kind._He_gave_her_the_tools_she_needed_to_live_a_happ.000009.jpg\"\n"
          ],
          "name": "stdout"
        },
        {
          "output_type": "display_data",
          "data": {
            "image/png": "./The_prince_was_wise_and_kind._He_gave_her_the_tools_she_needed_to_live_a_happy_and_fulfilling_life..jpg",
            "text/plain": [
              "<IPython.core.display.Image object>"
            ]
          },
          "metadata": {
            "tags": []
          }
        },
        {
          "output_type": "stream",
          "text": [
            "\r\rimage updated at \"./The_prince_was_wise_and_kind._He_gave_her_the_tools_she_needed_to_live_a_happ.000010.jpg\"\n"
          ],
          "name": "stdout"
        },
        {
          "output_type": "display_data",
          "data": {
            "image/png": "./The_prince_was_wise_and_kind._He_gave_her_the_tools_she_needed_to_live_a_happy_and_fulfilling_life..jpg",
            "text/plain": [
              "<IPython.core.display.Image object>"
            ]
          },
          "metadata": {
            "tags": []
          }
        },
        {
          "output_type": "stream",
          "text": [
            "\r\rimage updated at \"./The_prince_was_wise_and_kind._He_gave_her_the_tools_she_needed_to_live_a_happ.000011.jpg\"\n"
          ],
          "name": "stdout"
        },
        {
          "output_type": "display_data",
          "data": {
            "image/png": "./The_prince_was_wise_and_kind._He_gave_her_the_tools_she_needed_to_live_a_happy_and_fulfilling_life..jpg",
            "text/plain": [
              "<IPython.core.display.Image object>"
            ]
          },
          "metadata": {
            "tags": []
          }
        },
        {
          "output_type": "stream",
          "text": [
            "\r\rimage updated at \"./The_prince_was_wise_and_kind._He_gave_her_the_tools_she_needed_to_live_a_happ.000012.jpg\"\n"
          ],
          "name": "stdout"
        },
        {
          "output_type": "display_data",
          "data": {
            "image/png": "./The_prince_was_wise_and_kind._He_gave_her_the_tools_she_needed_to_live_a_happy_and_fulfilling_life..jpg",
            "text/plain": [
              "<IPython.core.display.Image object>"
            ]
          },
          "metadata": {
            "tags": []
          }
        },
        {
          "output_type": "stream",
          "text": [
            "\r\rimage updated at \"./The_prince_was_wise_and_kind._He_gave_her_the_tools_she_needed_to_live_a_happ.000013.jpg\"\n"
          ],
          "name": "stdout"
        },
        {
          "output_type": "display_data",
          "data": {
            "image/png": "./The_prince_was_wise_and_kind._He_gave_her_the_tools_she_needed_to_live_a_happy_and_fulfilling_life..jpg",
            "text/plain": [
              "<IPython.core.display.Image object>"
            ]
          },
          "metadata": {
            "tags": []
          }
        },
        {
          "output_type": "stream",
          "text": [
            "\r\rimage updated at \"./The_prince_was_wise_and_kind._He_gave_her_the_tools_she_needed_to_live_a_happ.000014.jpg\"\n"
          ],
          "name": "stdout"
        },
        {
          "output_type": "display_data",
          "data": {
            "image/png": "./The_prince_was_wise_and_kind._He_gave_her_the_tools_she_needed_to_live_a_happy_and_fulfilling_life..jpg",
            "text/plain": [
              "<IPython.core.display.Image object>"
            ]
          },
          "metadata": {
            "tags": []
          }
        },
        {
          "output_type": "stream",
          "text": [
            "\r\rimage updated at \"./The_prince_was_wise_and_kind._He_gave_her_the_tools_she_needed_to_live_a_happ.000015.jpg\"\n"
          ],
          "name": "stdout"
        },
        {
          "output_type": "display_data",
          "data": {
            "image/png": "./The_prince_was_wise_and_kind._He_gave_her_the_tools_she_needed_to_live_a_happy_and_fulfilling_life..jpg",
            "text/plain": [
              "<IPython.core.display.Image object>"
            ]
          },
          "metadata": {
            "tags": []
          }
        },
        {
          "output_type": "stream",
          "text": [
            "\r\rimage updated at \"./The_prince_was_wise_and_kind._He_gave_her_the_tools_she_needed_to_live_a_happ.000016.jpg\"\n"
          ],
          "name": "stdout"
        },
        {
          "output_type": "display_data",
          "data": {
            "image/png": "./The_prince_was_wise_and_kind._He_gave_her_the_tools_she_needed_to_live_a_happy_and_fulfilling_life..jpg",
            "text/plain": [
              "<IPython.core.display.Image object>"
            ]
          },
          "metadata": {
            "tags": []
          }
        },
        {
          "output_type": "stream",
          "text": [
            "\r\rimage updated at \"./The_prince_was_wise_and_kind._He_gave_her_the_tools_she_needed_to_live_a_happ.000017.jpg\"\n"
          ],
          "name": "stdout"
        },
        {
          "output_type": "display_data",
          "data": {
            "image/png": "./The_prince_was_wise_and_kind._He_gave_her_the_tools_she_needed_to_live_a_happy_and_fulfilling_life..jpg",
            "text/plain": [
              "<IPython.core.display.Image object>"
            ]
          },
          "metadata": {
            "tags": []
          }
        },
        {
          "output_type": "stream",
          "text": [
            "\r\rimage updated at \"./The_prince_was_wise_and_kind._He_gave_her_the_tools_she_needed_to_live_a_happ.000018.jpg\"\n"
          ],
          "name": "stdout"
        },
        {
          "output_type": "display_data",
          "data": {
            "image/png": "./The_prince_was_wise_and_kind._He_gave_her_the_tools_she_needed_to_live_a_happy_and_fulfilling_life..jpg",
            "text/plain": [
              "<IPython.core.display.Image object>"
            ]
          },
          "metadata": {
            "tags": []
          }
        },
        {
          "output_type": "stream",
          "text": [
            "\r\rimage updated at \"./The_prince_was_wise_and_kind._He_gave_her_the_tools_she_needed_to_live_a_happ.000019.jpg\"\n"
          ],
          "name": "stdout"
        },
        {
          "output_type": "display_data",
          "data": {
            "image/png": "./The_prince_was_wise_and_kind._He_gave_her_the_tools_she_needed_to_live_a_happy_and_fulfilling_life..jpg",
            "text/plain": [
              "<IPython.core.display.Image object>"
            ]
          },
          "metadata": {
            "tags": []
          }
        },
        {
          "output_type": "stream",
          "text": [
            "\r\rimage updated at \"./The_prince_was_wise_and_kind._He_gave_her_the_tools_she_needed_to_live_a_happ.000020.jpg\"\n"
          ],
          "name": "stdout"
        },
        {
          "output_type": "display_data",
          "data": {
            "image/png": "./The_prince_was_wise_and_kind._He_gave_her_the_tools_she_needed_to_live_a_happy_and_fulfilling_life..jpg",
            "text/plain": [
              "<IPython.core.display.Image object>"
            ]
          },
          "metadata": {
            "tags": []
          }
        },
        {
          "output_type": "stream",
          "text": [
            "\r\rimage updated at \"./The_prince_was_wise_and_kind._He_gave_her_the_tools_she_needed_to_live_a_happ.000021.jpg\"\n"
          ],
          "name": "stdout"
        },
        {
          "output_type": "display_data",
          "data": {
            "image/png": "./The_prince_was_wise_and_kind._He_gave_her_the_tools_she_needed_to_live_a_happy_and_fulfilling_life..jpg",
            "text/plain": [
              "<IPython.core.display.Image object>"
            ]
          },
          "metadata": {
            "tags": []
          }
        },
        {
          "output_type": "stream",
          "text": [
            "\r\rimage updated at \"./The_prince_was_wise_and_kind._He_gave_her_the_tools_she_needed_to_live_a_happ.000022.jpg\"\n"
          ],
          "name": "stdout"
        },
        {
          "output_type": "display_data",
          "data": {
            "image/png": "./The_prince_was_wise_and_kind._He_gave_her_the_tools_she_needed_to_live_a_happy_and_fulfilling_life..jpg",
            "text/plain": [
              "<IPython.core.display.Image object>"
            ]
          },
          "metadata": {
            "tags": []
          }
        },
        {
          "output_type": "stream",
          "text": [
            "\r\rimage updated at \"./The_prince_was_wise_and_kind._He_gave_her_the_tools_she_needed_to_live_a_happ.000023.jpg\"\n"
          ],
          "name": "stdout"
        },
        {
          "output_type": "display_data",
          "data": {
            "image/png": "./The_prince_was_wise_and_kind._He_gave_her_the_tools_she_needed_to_live_a_happy_and_fulfilling_life..jpg",
            "text/plain": [
              "<IPython.core.display.Image object>"
            ]
          },
          "metadata": {
            "tags": []
          }
        },
        {
          "output_type": "stream",
          "text": [
            "\r\rimage updated at \"./The_prince_was_wise_and_kind._He_gave_her_the_tools_she_needed_to_live_a_happ.000024.jpg\"\n"
          ],
          "name": "stdout"
        },
        {
          "output_type": "display_data",
          "data": {
            "image/png": "./The_prince_was_wise_and_kind._He_gave_her_the_tools_she_needed_to_live_a_happy_and_fulfilling_life..jpg",
            "text/plain": [
              "<IPython.core.display.Image object>"
            ]
          },
          "metadata": {
            "tags": []
          }
        },
        {
          "output_type": "stream",
          "text": [
            "\r\rimage updated at \"./The_prince_was_wise_and_kind._He_gave_her_the_tools_she_needed_to_live_a_happ.000025.jpg\"\n"
          ],
          "name": "stdout"
        },
        {
          "output_type": "display_data",
          "data": {
            "image/png": "./The_prince_was_wise_and_kind._He_gave_her_the_tools_she_needed_to_live_a_happy_and_fulfilling_life..jpg",
            "text/plain": [
              "<IPython.core.display.Image object>"
            ]
          },
          "metadata": {
            "tags": []
          }
        },
        {
          "output_type": "stream",
          "text": [
            "\r\rimage updated at \"./The_prince_was_wise_and_kind._He_gave_her_the_tools_she_needed_to_live_a_happ.000026.jpg\"\n"
          ],
          "name": "stdout"
        },
        {
          "output_type": "display_data",
          "data": {
            "image/png": "./The_prince_was_wise_and_kind._He_gave_her_the_tools_she_needed_to_live_a_happy_and_fulfilling_life..jpg",
            "text/plain": [
              "<IPython.core.display.Image object>"
            ]
          },
          "metadata": {
            "tags": []
          }
        },
        {
          "output_type": "stream",
          "text": [
            "\r\rimage updated at \"./The_prince_was_wise_and_kind._He_gave_her_the_tools_she_needed_to_live_a_happ.000027.jpg\"\n"
          ],
          "name": "stdout"
        },
        {
          "output_type": "display_data",
          "data": {
            "image/png": "./The_prince_was_wise_and_kind._He_gave_her_the_tools_she_needed_to_live_a_happy_and_fulfilling_life..jpg",
            "text/plain": [
              "<IPython.core.display.Image object>"
            ]
          },
          "metadata": {
            "tags": []
          }
        },
        {
          "output_type": "stream",
          "text": [
            "\r\rimage updated at \"./The_prince_was_wise_and_kind._He_gave_her_the_tools_she_needed_to_live_a_happ.000028.jpg\"\n"
          ],
          "name": "stdout"
        },
        {
          "output_type": "display_data",
          "data": {
            "image/png": "./The_prince_was_wise_and_kind._He_gave_her_the_tools_she_needed_to_live_a_happy_and_fulfilling_life..jpg",
            "text/plain": [
              "<IPython.core.display.Image object>"
            ]
          },
          "metadata": {
            "tags": []
          }
        },
        {
          "output_type": "stream",
          "text": [
            "\r\rimage updated at \"./The_prince_was_wise_and_kind._He_gave_her_the_tools_she_needed_to_live_a_happ.000029.jpg\"\n"
          ],
          "name": "stdout"
        },
        {
          "output_type": "display_data",
          "data": {
            "image/png": "./The_prince_was_wise_and_kind._He_gave_her_the_tools_she_needed_to_live_a_happy_and_fulfilling_life..jpg",
            "text/plain": [
              "<IPython.core.display.Image object>"
            ]
          },
          "metadata": {
            "tags": []
          }
        },
        {
          "output_type": "stream",
          "text": [
            "\r\rimage updated at \"./The_prince_was_wise_and_kind._He_gave_her_the_tools_she_needed_to_live_a_happ.000030.jpg\"\n"
          ],
          "name": "stdout"
        },
        {
          "output_type": "display_data",
          "data": {
            "image/png": "./The_prince_was_wise_and_kind._He_gave_her_the_tools_she_needed_to_live_a_happy_and_fulfilling_life..jpg",
            "text/plain": [
              "<IPython.core.display.Image object>"
            ]
          },
          "metadata": {
            "tags": []
          }
        },
        {
          "output_type": "stream",
          "text": [
            "\r\rimage updated at \"./The_prince_was_wise_and_kind._He_gave_her_the_tools_she_needed_to_live_a_happ.000031.jpg\"\n"
          ],
          "name": "stdout"
        },
        {
          "output_type": "display_data",
          "data": {
            "image/png": "./The_prince_was_wise_and_kind._He_gave_her_the_tools_she_needed_to_live_a_happy_and_fulfilling_life..jpg",
            "text/plain": [
              "<IPython.core.display.Image object>"
            ]
          },
          "metadata": {
            "tags": []
          }
        },
        {
          "output_type": "stream",
          "text": [
            "\r\rimage updated at \"./The_prince_was_wise_and_kind._He_gave_her_the_tools_she_needed_to_live_a_happ.000032.jpg\"\n"
          ],
          "name": "stdout"
        },
        {
          "output_type": "display_data",
          "data": {
            "image/png": "./The_prince_was_wise_and_kind._He_gave_her_the_tools_she_needed_to_live_a_happy_and_fulfilling_life..jpg",
            "text/plain": [
              "<IPython.core.display.Image object>"
            ]
          },
          "metadata": {
            "tags": []
          }
        },
        {
          "output_type": "stream",
          "text": [
            "\r\rimage updated at \"./The_prince_was_wise_and_kind._He_gave_her_the_tools_she_needed_to_live_a_happ.000033.jpg\"\n"
          ],
          "name": "stdout"
        },
        {
          "output_type": "display_data",
          "data": {
            "image/png": "./The_prince_was_wise_and_kind._He_gave_her_the_tools_she_needed_to_live_a_happy_and_fulfilling_life..jpg",
            "text/plain": [
              "<IPython.core.display.Image object>"
            ]
          },
          "metadata": {
            "tags": []
          }
        },
        {
          "output_type": "stream",
          "text": [
            "\r\rimage updated at \"./The_prince_was_wise_and_kind._He_gave_her_the_tools_she_needed_to_live_a_happ.000034.jpg\"\n"
          ],
          "name": "stdout"
        },
        {
          "output_type": "display_data",
          "data": {
            "image/png": "./The_prince_was_wise_and_kind._He_gave_her_the_tools_she_needed_to_live_a_happy_and_fulfilling_life..jpg",
            "text/plain": [
              "<IPython.core.display.Image object>"
            ]
          },
          "metadata": {
            "tags": []
          }
        },
        {
          "output_type": "stream",
          "text": [
            "\r\rimage updated at \"./The_prince_was_wise_and_kind._He_gave_her_the_tools_she_needed_to_live_a_happ.000035.jpg\"\n"
          ],
          "name": "stdout"
        },
        {
          "output_type": "display_data",
          "data": {
            "image/png": "./The_prince_was_wise_and_kind._He_gave_her_the_tools_she_needed_to_live_a_happy_and_fulfilling_life..jpg",
            "text/plain": [
              "<IPython.core.display.Image object>"
            ]
          },
          "metadata": {
            "tags": []
          }
        },
        {
          "output_type": "stream",
          "text": [
            "\r\rimage updated at \"./The_prince_was_wise_and_kind._He_gave_her_the_tools_she_needed_to_live_a_happ.000036.jpg\"\n"
          ],
          "name": "stdout"
        },
        {
          "output_type": "display_data",
          "data": {
            "image/png": "./The_prince_was_wise_and_kind._He_gave_her_the_tools_she_needed_to_live_a_happy_and_fulfilling_life..jpg",
            "text/plain": [
              "<IPython.core.display.Image object>"
            ]
          },
          "metadata": {
            "tags": []
          }
        },
        {
          "output_type": "stream",
          "text": [
            "\r\rimage updated at \"./The_prince_was_wise_and_kind._He_gave_her_the_tools_she_needed_to_live_a_happ.000037.jpg\"\n"
          ],
          "name": "stdout"
        },
        {
          "output_type": "display_data",
          "data": {
            "image/png": "./The_prince_was_wise_and_kind._He_gave_her_the_tools_she_needed_to_live_a_happy_and_fulfilling_life..jpg",
            "text/plain": [
              "<IPython.core.display.Image object>"
            ]
          },
          "metadata": {
            "tags": []
          }
        },
        {
          "output_type": "stream",
          "text": [
            "\r\rimage updated at \"./The_prince_was_wise_and_kind._He_gave_her_the_tools_she_needed_to_live_a_happ.000038.jpg\"\n"
          ],
          "name": "stdout"
        },
        {
          "output_type": "display_data",
          "data": {
            "image/png": "./The_prince_was_wise_and_kind._He_gave_her_the_tools_she_needed_to_live_a_happy_and_fulfilling_life..jpg",
            "text/plain": [
              "<IPython.core.display.Image object>"
            ]
          },
          "metadata": {
            "tags": []
          }
        },
        {
          "output_type": "stream",
          "text": [
            "\r\rimage updated at \"./The_prince_was_wise_and_kind._He_gave_her_the_tools_she_needed_to_live_a_happ.000039.jpg\"\n"
          ],
          "name": "stdout"
        },
        {
          "output_type": "display_data",
          "data": {
            "image/png": "./The_prince_was_wise_and_kind._He_gave_her_the_tools_she_needed_to_live_a_happy_and_fulfilling_life..jpg",
            "text/plain": [
              "<IPython.core.display.Image object>"
            ]
          },
          "metadata": {
            "tags": []
          }
        },
        {
          "output_type": "stream",
          "text": [
            "\r\rimage updated at \"./The_prince_was_wise_and_kind._He_gave_her_the_tools_she_needed_to_live_a_happ.000040.jpg\"\n"
          ],
          "name": "stdout"
        },
        {
          "output_type": "display_data",
          "data": {
            "image/png": "./The_prince_was_wise_and_kind._He_gave_her_the_tools_she_needed_to_live_a_happy_and_fulfilling_life..jpg",
            "text/plain": [
              "<IPython.core.display.Image object>"
            ]
          },
          "metadata": {
            "tags": []
          }
        },
        {
          "output_type": "stream",
          "text": [
            "\r\rimage updated at \"./The_prince_was_wise_and_kind._He_gave_her_the_tools_she_needed_to_live_a_happ.000041.jpg\"\n"
          ],
          "name": "stdout"
        },
        {
          "output_type": "display_data",
          "data": {
            "image/png": "./The_prince_was_wise_and_kind._He_gave_her_the_tools_she_needed_to_live_a_happy_and_fulfilling_life..jpg",
            "text/plain": [
              "<IPython.core.display.Image object>"
            ]
          },
          "metadata": {
            "tags": []
          }
        },
        {
          "output_type": "stream",
          "text": [
            "\r\rimage updated at \"./The_prince_was_wise_and_kind._He_gave_her_the_tools_she_needed_to_live_a_happ.000042.jpg\"\n"
          ],
          "name": "stdout"
        },
        {
          "output_type": "display_data",
          "data": {
            "image/png": "./The_prince_was_wise_and_kind._He_gave_her_the_tools_she_needed_to_live_a_happy_and_fulfilling_life..jpg",
            "text/plain": [
              "<IPython.core.display.Image object>"
            ]
          },
          "metadata": {
            "tags": []
          }
        },
        {
          "output_type": "stream",
          "text": [
            "\r\rimage updated at \"./The_prince_was_wise_and_kind._He_gave_her_the_tools_she_needed_to_live_a_happ.000043.jpg\"\n"
          ],
          "name": "stdout"
        },
        {
          "output_type": "display_data",
          "data": {
            "image/png": "./The_prince_was_wise_and_kind._He_gave_her_the_tools_she_needed_to_live_a_happy_and_fulfilling_life..jpg",
            "text/plain": [
              "<IPython.core.display.Image object>"
            ]
          },
          "metadata": {
            "tags": []
          }
        },
        {
          "output_type": "stream",
          "text": [
            "\r\rimage updated at \"./The_prince_was_wise_and_kind._He_gave_her_the_tools_she_needed_to_live_a_happ.000044.jpg\"\n"
          ],
          "name": "stdout"
        },
        {
          "output_type": "display_data",
          "data": {
            "image/png": "./The_prince_was_wise_and_kind._He_gave_her_the_tools_she_needed_to_live_a_happy_and_fulfilling_life..jpg",
            "text/plain": [
              "<IPython.core.display.Image object>"
            ]
          },
          "metadata": {
            "tags": []
          }
        },
        {
          "output_type": "stream",
          "text": [
            "\r\rimage updated at \"./The_prince_was_wise_and_kind._He_gave_her_the_tools_she_needed_to_live_a_happ.000045.jpg\"\n"
          ],
          "name": "stdout"
        },
        {
          "output_type": "display_data",
          "data": {
            "image/png": "./The_prince_was_wise_and_kind._He_gave_her_the_tools_she_needed_to_live_a_happy_and_fulfilling_life..jpg",
            "text/plain": [
              "<IPython.core.display.Image object>"
            ]
          },
          "metadata": {
            "tags": []
          }
        },
        {
          "output_type": "stream",
          "text": [
            "\r\rimage updated at \"./The_prince_was_wise_and_kind._He_gave_her_the_tools_she_needed_to_live_a_happ.000046.jpg\"\n"
          ],
          "name": "stdout"
        },
        {
          "output_type": "display_data",
          "data": {
            "image/png": "./The_prince_was_wise_and_kind._He_gave_her_the_tools_she_needed_to_live_a_happy_and_fulfilling_life..jpg",
            "text/plain": [
              "<IPython.core.display.Image object>"
            ]
          },
          "metadata": {
            "tags": []
          }
        },
        {
          "output_type": "stream",
          "text": [
            "\r\rimage updated at \"./The_prince_was_wise_and_kind._He_gave_her_the_tools_she_needed_to_live_a_happ.000047.jpg\"\n"
          ],
          "name": "stdout"
        },
        {
          "output_type": "display_data",
          "data": {
            "image/png": "./The_prince_was_wise_and_kind._He_gave_her_the_tools_she_needed_to_live_a_happy_and_fulfilling_life..jpg",
            "text/plain": [
              "<IPython.core.display.Image object>"
            ]
          },
          "metadata": {
            "tags": []
          }
        },
        {
          "output_type": "stream",
          "text": [
            "\r\rimage updated at \"./The_prince_was_wise_and_kind._He_gave_her_the_tools_she_needed_to_live_a_happ.000048.jpg\"\n"
          ],
          "name": "stdout"
        },
        {
          "output_type": "display_data",
          "data": {
            "image/png": "./The_prince_was_wise_and_kind._He_gave_her_the_tools_she_needed_to_live_a_happy_and_fulfilling_life..jpg",
            "text/plain": [
              "<IPython.core.display.Image object>"
            ]
          },
          "metadata": {
            "tags": []
          }
        },
        {
          "output_type": "stream",
          "text": [
            "\r\rimage updated at \"./The_prince_was_wise_and_kind._He_gave_her_the_tools_she_needed_to_live_a_happ.000049.jpg\"\n"
          ],
          "name": "stdout"
        },
        {
          "output_type": "display_data",
          "data": {
            "image/png": "./The_prince_was_wise_and_kind._He_gave_her_the_tools_she_needed_to_live_a_happy_and_fulfilling_life..jpg",
            "text/plain": [
              "<IPython.core.display.Image object>"
            ]
          },
          "metadata": {
            "tags": []
          }
        },
        {
          "output_type": "stream",
          "text": [
            "\r\rimage updated at \"./The_prince_was_wise_and_kind._He_gave_her_the_tools_she_needed_to_live_a_happ.000050.jpg\"\n"
          ],
          "name": "stdout"
        },
        {
          "output_type": "display_data",
          "data": {
            "image/png": "./The_prince_was_wise_and_kind._He_gave_her_the_tools_she_needed_to_live_a_happy_and_fulfilling_life..jpg",
            "text/plain": [
              "<IPython.core.display.Image object>"
            ]
          },
          "metadata": {
            "tags": []
          }
        },
        {
          "output_type": "stream",
          "text": [
            "\r\rimage updated at \"./The_prince_was_wise_and_kind._He_gave_her_the_tools_she_needed_to_live_a_happ.000051.jpg\"\n"
          ],
          "name": "stdout"
        },
        {
          "output_type": "display_data",
          "data": {
            "image/png": "./The_prince_was_wise_and_kind._He_gave_her_the_tools_she_needed_to_live_a_happy_and_fulfilling_life..jpg",
            "text/plain": [
              "<IPython.core.display.Image object>"
            ]
          },
          "metadata": {
            "tags": []
          }
        },
        {
          "output_type": "stream",
          "text": [
            "\r\rimage updated at \"./The_prince_was_wise_and_kind._He_gave_her_the_tools_she_needed_to_live_a_happ.000052.jpg\"\n"
          ],
          "name": "stdout"
        },
        {
          "output_type": "display_data",
          "data": {
            "image/png": "./The_prince_was_wise_and_kind._He_gave_her_the_tools_she_needed_to_live_a_happy_and_fulfilling_life..jpg",
            "text/plain": [
              "<IPython.core.display.Image object>"
            ]
          },
          "metadata": {
            "tags": []
          }
        },
        {
          "output_type": "stream",
          "text": [
            "\n"
          ],
          "name": "stdout"
        },
        {
          "output_type": "display_data",
          "data": {
            "application/vnd.jupyter.widget-view+json": {
              "model_id": "1f8bd8dbcb71432083a6561998649fd7",
              "version_major": 2,
              "version_minor": 0
            },
            "text/plain": [
              "HBox(children=(FloatProgress(value=0.0, description='iteration', max=1050.0, style=ProgressStyle(description_w…"
            ]
          },
          "metadata": {
            "tags": []
          }
        },
        {
          "output_type": "stream",
          "text": [
            "\r\rimage updated at \"./The_prince_was_wise_and_kind._He_gave_her_the_tools_she_needed_to_live_a_happ.000052.jpg\"\n"
          ],
          "name": "stdout"
        },
        {
          "output_type": "display_data",
          "data": {
            "image/png": "./The_prince_was_wise_and_kind._He_gave_her_the_tools_she_needed_to_live_a_happy_and_fulfilling_life..jpg",
            "text/plain": [
              "<IPython.core.display.Image object>"
            ]
          },
          "metadata": {
            "tags": []
          }
        },
        {
          "output_type": "stream",
          "text": [
            "\r\rimage updated at \"./The_prince_was_wise_and_kind._He_gave_her_the_tools_she_needed_to_live_a_happ.000053.jpg\"\n"
          ],
          "name": "stdout"
        },
        {
          "output_type": "display_data",
          "data": {
            "image/png": "./The_prince_was_wise_and_kind._He_gave_her_the_tools_she_needed_to_live_a_happy_and_fulfilling_life..jpg",
            "text/plain": [
              "<IPython.core.display.Image object>"
            ]
          },
          "metadata": {
            "tags": []
          }
        },
        {
          "output_type": "stream",
          "text": [
            "\r\rimage updated at \"./The_prince_was_wise_and_kind._He_gave_her_the_tools_she_needed_to_live_a_happ.000054.jpg\"\n"
          ],
          "name": "stdout"
        },
        {
          "output_type": "display_data",
          "data": {
            "image/png": "./The_prince_was_wise_and_kind._He_gave_her_the_tools_she_needed_to_live_a_happy_and_fulfilling_life..jpg",
            "text/plain": [
              "<IPython.core.display.Image object>"
            ]
          },
          "metadata": {
            "tags": []
          }
        },
        {
          "output_type": "stream",
          "text": [
            "\r\rimage updated at \"./The_prince_was_wise_and_kind._He_gave_her_the_tools_she_needed_to_live_a_happ.000055.jpg\"\n"
          ],
          "name": "stdout"
        },
        {
          "output_type": "display_data",
          "data": {
            "image/png": "./The_prince_was_wise_and_kind._He_gave_her_the_tools_she_needed_to_live_a_happy_and_fulfilling_life..jpg",
            "text/plain": [
              "<IPython.core.display.Image object>"
            ]
          },
          "metadata": {
            "tags": []
          }
        },
        {
          "output_type": "stream",
          "text": [
            "\r\rimage updated at \"./The_prince_was_wise_and_kind._He_gave_her_the_tools_she_needed_to_live_a_happ.000056.jpg\"\n"
          ],
          "name": "stdout"
        },
        {
          "output_type": "display_data",
          "data": {
            "image/png": "./The_prince_was_wise_and_kind._He_gave_her_the_tools_she_needed_to_live_a_happy_and_fulfilling_life..jpg",
            "text/plain": [
              "<IPython.core.display.Image object>"
            ]
          },
          "metadata": {
            "tags": []
          }
        },
        {
          "output_type": "stream",
          "text": [
            "\r\rimage updated at \"./The_prince_was_wise_and_kind._He_gave_her_the_tools_she_needed_to_live_a_happ.000057.jpg\"\n"
          ],
          "name": "stdout"
        },
        {
          "output_type": "display_data",
          "data": {
            "image/png": "./The_prince_was_wise_and_kind._He_gave_her_the_tools_she_needed_to_live_a_happy_and_fulfilling_life..jpg",
            "text/plain": [
              "<IPython.core.display.Image object>"
            ]
          },
          "metadata": {
            "tags": []
          }
        },
        {
          "output_type": "stream",
          "text": [
            "\r\rimage updated at \"./The_prince_was_wise_and_kind._He_gave_her_the_tools_she_needed_to_live_a_happ.000058.jpg\"\n"
          ],
          "name": "stdout"
        },
        {
          "output_type": "display_data",
          "data": {
            "image/png": "./The_prince_was_wise_and_kind._He_gave_her_the_tools_she_needed_to_live_a_happy_and_fulfilling_life..jpg",
            "text/plain": [
              "<IPython.core.display.Image object>"
            ]
          },
          "metadata": {
            "tags": []
          }
        },
        {
          "output_type": "stream",
          "text": [
            "\r\rimage updated at \"./The_prince_was_wise_and_kind._He_gave_her_the_tools_she_needed_to_live_a_happ.000059.jpg\"\n"
          ],
          "name": "stdout"
        },
        {
          "output_type": "display_data",
          "data": {
            "image/png": "./The_prince_was_wise_and_kind._He_gave_her_the_tools_she_needed_to_live_a_happy_and_fulfilling_life..jpg",
            "text/plain": [
              "<IPython.core.display.Image object>"
            ]
          },
          "metadata": {
            "tags": []
          }
        },
        {
          "output_type": "stream",
          "text": [
            "\r\rimage updated at \"./The_prince_was_wise_and_kind._He_gave_her_the_tools_she_needed_to_live_a_happ.000060.jpg\"\n"
          ],
          "name": "stdout"
        },
        {
          "output_type": "display_data",
          "data": {
            "image/png": "./The_prince_was_wise_and_kind._He_gave_her_the_tools_she_needed_to_live_a_happy_and_fulfilling_life..jpg",
            "text/plain": [
              "<IPython.core.display.Image object>"
            ]
          },
          "metadata": {
            "tags": []
          }
        },
        {
          "output_type": "stream",
          "text": [
            "\r\rimage updated at \"./The_prince_was_wise_and_kind._He_gave_her_the_tools_she_needed_to_live_a_happ.000061.jpg\"\n"
          ],
          "name": "stdout"
        },
        {
          "output_type": "display_data",
          "data": {
            "image/png": "./The_prince_was_wise_and_kind._He_gave_her_the_tools_she_needed_to_live_a_happy_and_fulfilling_life..jpg",
            "text/plain": [
              "<IPython.core.display.Image object>"
            ]
          },
          "metadata": {
            "tags": []
          }
        },
        {
          "output_type": "stream",
          "text": [
            "\r\rimage updated at \"./The_prince_was_wise_and_kind._He_gave_her_the_tools_she_needed_to_live_a_happ.000062.jpg\"\n"
          ],
          "name": "stdout"
        },
        {
          "output_type": "display_data",
          "data": {
            "image/png": "./The_prince_was_wise_and_kind._He_gave_her_the_tools_she_needed_to_live_a_happy_and_fulfilling_life..jpg",
            "text/plain": [
              "<IPython.core.display.Image object>"
            ]
          },
          "metadata": {
            "tags": []
          }
        },
        {
          "output_type": "stream",
          "text": [
            "\r\rimage updated at \"./The_prince_was_wise_and_kind._He_gave_her_the_tools_she_needed_to_live_a_happ.000063.jpg\"\n"
          ],
          "name": "stdout"
        },
        {
          "output_type": "display_data",
          "data": {
            "image/png": "./The_prince_was_wise_and_kind._He_gave_her_the_tools_she_needed_to_live_a_happy_and_fulfilling_life..jpg",
            "text/plain": [
              "<IPython.core.display.Image object>"
            ]
          },
          "metadata": {
            "tags": []
          }
        },
        {
          "output_type": "stream",
          "text": [
            "\r\rimage updated at \"./The_prince_was_wise_and_kind._He_gave_her_the_tools_she_needed_to_live_a_happ.000064.jpg\"\n"
          ],
          "name": "stdout"
        },
        {
          "output_type": "display_data",
          "data": {
            "image/png": "./The_prince_was_wise_and_kind._He_gave_her_the_tools_she_needed_to_live_a_happy_and_fulfilling_life..jpg",
            "text/plain": [
              "<IPython.core.display.Image object>"
            ]
          },
          "metadata": {
            "tags": []
          }
        },
        {
          "output_type": "stream",
          "text": [
            "\r\rimage updated at \"./The_prince_was_wise_and_kind._He_gave_her_the_tools_she_needed_to_live_a_happ.000065.jpg\"\n"
          ],
          "name": "stdout"
        },
        {
          "output_type": "display_data",
          "data": {
            "image/png": "./The_prince_was_wise_and_kind._He_gave_her_the_tools_she_needed_to_live_a_happy_and_fulfilling_life..jpg",
            "text/plain": [
              "<IPython.core.display.Image object>"
            ]
          },
          "metadata": {
            "tags": []
          }
        },
        {
          "output_type": "stream",
          "text": [
            "\r\rimage updated at \"./The_prince_was_wise_and_kind._He_gave_her_the_tools_she_needed_to_live_a_happ.000066.jpg\"\n"
          ],
          "name": "stdout"
        },
        {
          "output_type": "display_data",
          "data": {
            "image/png": "./The_prince_was_wise_and_kind._He_gave_her_the_tools_she_needed_to_live_a_happy_and_fulfilling_life..jpg",
            "text/plain": [
              "<IPython.core.display.Image object>"
            ]
          },
          "metadata": {
            "tags": []
          }
        },
        {
          "output_type": "stream",
          "text": [
            "\r\rimage updated at \"./The_prince_was_wise_and_kind._He_gave_her_the_tools_she_needed_to_live_a_happ.000067.jpg\"\n"
          ],
          "name": "stdout"
        },
        {
          "output_type": "display_data",
          "data": {
            "image/png": "./The_prince_was_wise_and_kind._He_gave_her_the_tools_she_needed_to_live_a_happy_and_fulfilling_life..jpg",
            "text/plain": [
              "<IPython.core.display.Image object>"
            ]
          },
          "metadata": {
            "tags": []
          }
        },
        {
          "output_type": "stream",
          "text": [
            "\r\rimage updated at \"./The_prince_was_wise_and_kind._He_gave_her_the_tools_she_needed_to_live_a_happ.000068.jpg\"\n"
          ],
          "name": "stdout"
        },
        {
          "output_type": "display_data",
          "data": {
            "image/png": "./The_prince_was_wise_and_kind._He_gave_her_the_tools_she_needed_to_live_a_happy_and_fulfilling_life..jpg",
            "text/plain": [
              "<IPython.core.display.Image object>"
            ]
          },
          "metadata": {
            "tags": []
          }
        },
        {
          "output_type": "stream",
          "text": [
            "\r\rimage updated at \"./The_prince_was_wise_and_kind._He_gave_her_the_tools_she_needed_to_live_a_happ.000069.jpg\"\n"
          ],
          "name": "stdout"
        },
        {
          "output_type": "display_data",
          "data": {
            "image/png": "./The_prince_was_wise_and_kind._He_gave_her_the_tools_she_needed_to_live_a_happy_and_fulfilling_life..jpg",
            "text/plain": [
              "<IPython.core.display.Image object>"
            ]
          },
          "metadata": {
            "tags": []
          }
        },
        {
          "output_type": "stream",
          "text": [
            "\r\rimage updated at \"./The_prince_was_wise_and_kind._He_gave_her_the_tools_she_needed_to_live_a_happ.000070.jpg\"\n"
          ],
          "name": "stdout"
        },
        {
          "output_type": "display_data",
          "data": {
            "image/png": "./The_prince_was_wise_and_kind._He_gave_her_the_tools_she_needed_to_live_a_happy_and_fulfilling_life..jpg",
            "text/plain": [
              "<IPython.core.display.Image object>"
            ]
          },
          "metadata": {
            "tags": []
          }
        },
        {
          "output_type": "stream",
          "text": [
            "\r\rimage updated at \"./The_prince_was_wise_and_kind._He_gave_her_the_tools_she_needed_to_live_a_happ.000071.jpg\"\n"
          ],
          "name": "stdout"
        },
        {
          "output_type": "display_data",
          "data": {
            "image/png": "./The_prince_was_wise_and_kind._He_gave_her_the_tools_she_needed_to_live_a_happy_and_fulfilling_life..jpg",
            "text/plain": [
              "<IPython.core.display.Image object>"
            ]
          },
          "metadata": {
            "tags": []
          }
        },
        {
          "output_type": "stream",
          "text": [
            "\r\rimage updated at \"./The_prince_was_wise_and_kind._He_gave_her_the_tools_she_needed_to_live_a_happ.000072.jpg\"\n"
          ],
          "name": "stdout"
        },
        {
          "output_type": "display_data",
          "data": {
            "image/png": "./The_prince_was_wise_and_kind._He_gave_her_the_tools_she_needed_to_live_a_happy_and_fulfilling_life..jpg",
            "text/plain": [
              "<IPython.core.display.Image object>"
            ]
          },
          "metadata": {
            "tags": []
          }
        },
        {
          "output_type": "stream",
          "text": [
            "\r\rimage updated at \"./The_prince_was_wise_and_kind._He_gave_her_the_tools_she_needed_to_live_a_happ.000073.jpg\"\n"
          ],
          "name": "stdout"
        },
        {
          "output_type": "display_data",
          "data": {
            "image/png": "./The_prince_was_wise_and_kind._He_gave_her_the_tools_she_needed_to_live_a_happy_and_fulfilling_life..jpg",
            "text/plain": [
              "<IPython.core.display.Image object>"
            ]
          },
          "metadata": {
            "tags": []
          }
        },
        {
          "output_type": "stream",
          "text": [
            "\r\rimage updated at \"./The_prince_was_wise_and_kind._He_gave_her_the_tools_she_needed_to_live_a_happ.000074.jpg\"\n"
          ],
          "name": "stdout"
        },
        {
          "output_type": "display_data",
          "data": {
            "image/png": "./The_prince_was_wise_and_kind._He_gave_her_the_tools_she_needed_to_live_a_happy_and_fulfilling_life..jpg",
            "text/plain": [
              "<IPython.core.display.Image object>"
            ]
          },
          "metadata": {
            "tags": []
          }
        },
        {
          "output_type": "stream",
          "text": [
            "\r\rimage updated at \"./The_prince_was_wise_and_kind._He_gave_her_the_tools_she_needed_to_live_a_happ.000075.jpg\"\n"
          ],
          "name": "stdout"
        },
        {
          "output_type": "display_data",
          "data": {
            "image/png": "./The_prince_was_wise_and_kind._He_gave_her_the_tools_she_needed_to_live_a_happy_and_fulfilling_life..jpg",
            "text/plain": [
              "<IPython.core.display.Image object>"
            ]
          },
          "metadata": {
            "tags": []
          }
        },
        {
          "output_type": "stream",
          "text": [
            "\r\rimage updated at \"./The_prince_was_wise_and_kind._He_gave_her_the_tools_she_needed_to_live_a_happ.000076.jpg\"\n"
          ],
          "name": "stdout"
        },
        {
          "output_type": "display_data",
          "data": {
            "image/png": "./The_prince_was_wise_and_kind._He_gave_her_the_tools_she_needed_to_live_a_happy_and_fulfilling_life..jpg",
            "text/plain": [
              "<IPython.core.display.Image object>"
            ]
          },
          "metadata": {
            "tags": []
          }
        },
        {
          "output_type": "stream",
          "text": [
            "\r\rimage updated at \"./The_prince_was_wise_and_kind._He_gave_her_the_tools_she_needed_to_live_a_happ.000077.jpg\"\n"
          ],
          "name": "stdout"
        },
        {
          "output_type": "display_data",
          "data": {
            "image/png": "./The_prince_was_wise_and_kind._He_gave_her_the_tools_she_needed_to_live_a_happy_and_fulfilling_life..jpg",
            "text/plain": [
              "<IPython.core.display.Image object>"
            ]
          },
          "metadata": {
            "tags": []
          }
        },
        {
          "output_type": "stream",
          "text": [
            "\r\rimage updated at \"./The_prince_was_wise_and_kind._He_gave_her_the_tools_she_needed_to_live_a_happ.000078.jpg\"\n"
          ],
          "name": "stdout"
        },
        {
          "output_type": "display_data",
          "data": {
            "image/png": "./The_prince_was_wise_and_kind._He_gave_her_the_tools_she_needed_to_live_a_happy_and_fulfilling_life..jpg",
            "text/plain": [
              "<IPython.core.display.Image object>"
            ]
          },
          "metadata": {
            "tags": []
          }
        },
        {
          "output_type": "stream",
          "text": [
            "\r\rimage updated at \"./The_prince_was_wise_and_kind._He_gave_her_the_tools_she_needed_to_live_a_happ.000079.jpg\"\n"
          ],
          "name": "stdout"
        },
        {
          "output_type": "display_data",
          "data": {
            "image/png": "./The_prince_was_wise_and_kind._He_gave_her_the_tools_she_needed_to_live_a_happy_and_fulfilling_life..jpg",
            "text/plain": [
              "<IPython.core.display.Image object>"
            ]
          },
          "metadata": {
            "tags": []
          }
        },
        {
          "output_type": "stream",
          "text": [
            "\r\rimage updated at \"./The_prince_was_wise_and_kind._He_gave_her_the_tools_she_needed_to_live_a_happ.000080.jpg\"\n"
          ],
          "name": "stdout"
        },
        {
          "output_type": "display_data",
          "data": {
            "image/png": "./The_prince_was_wise_and_kind._He_gave_her_the_tools_she_needed_to_live_a_happy_and_fulfilling_life..jpg",
            "text/plain": [
              "<IPython.core.display.Image object>"
            ]
          },
          "metadata": {
            "tags": []
          }
        },
        {
          "output_type": "stream",
          "text": [
            "\r\rimage updated at \"./The_prince_was_wise_and_kind._He_gave_her_the_tools_she_needed_to_live_a_happ.000081.jpg\"\n"
          ],
          "name": "stdout"
        },
        {
          "output_type": "display_data",
          "data": {
            "image/png": "./The_prince_was_wise_and_kind._He_gave_her_the_tools_she_needed_to_live_a_happy_and_fulfilling_life..jpg",
            "text/plain": [
              "<IPython.core.display.Image object>"
            ]
          },
          "metadata": {
            "tags": []
          }
        },
        {
          "output_type": "stream",
          "text": [
            "\r\rimage updated at \"./The_prince_was_wise_and_kind._He_gave_her_the_tools_she_needed_to_live_a_happ.000082.jpg\"\n"
          ],
          "name": "stdout"
        },
        {
          "output_type": "display_data",
          "data": {
            "image/png": "./The_prince_was_wise_and_kind._He_gave_her_the_tools_she_needed_to_live_a_happy_and_fulfilling_life..jpg",
            "text/plain": [
              "<IPython.core.display.Image object>"
            ]
          },
          "metadata": {
            "tags": []
          }
        },
        {
          "output_type": "stream",
          "text": [
            "\r\rimage updated at \"./The_prince_was_wise_and_kind._He_gave_her_the_tools_she_needed_to_live_a_happ.000083.jpg\"\n"
          ],
          "name": "stdout"
        },
        {
          "output_type": "display_data",
          "data": {
            "image/png": "./The_prince_was_wise_and_kind._He_gave_her_the_tools_she_needed_to_live_a_happy_and_fulfilling_life..jpg",
            "text/plain": [
              "<IPython.core.display.Image object>"
            ]
          },
          "metadata": {
            "tags": []
          }
        },
        {
          "output_type": "stream",
          "text": [
            "\r\rimage updated at \"./The_prince_was_wise_and_kind._He_gave_her_the_tools_she_needed_to_live_a_happ.000084.jpg\"\n"
          ],
          "name": "stdout"
        },
        {
          "output_type": "display_data",
          "data": {
            "image/png": "./The_prince_was_wise_and_kind._He_gave_her_the_tools_she_needed_to_live_a_happy_and_fulfilling_life..jpg",
            "text/plain": [
              "<IPython.core.display.Image object>"
            ]
          },
          "metadata": {
            "tags": []
          }
        },
        {
          "output_type": "stream",
          "text": [
            "\r\rimage updated at \"./The_prince_was_wise_and_kind._He_gave_her_the_tools_she_needed_to_live_a_happ.000085.jpg\"\n"
          ],
          "name": "stdout"
        },
        {
          "output_type": "display_data",
          "data": {
            "image/png": "./The_prince_was_wise_and_kind._He_gave_her_the_tools_she_needed_to_live_a_happy_and_fulfilling_life..jpg",
            "text/plain": [
              "<IPython.core.display.Image object>"
            ]
          },
          "metadata": {
            "tags": []
          }
        },
        {
          "output_type": "stream",
          "text": [
            "\r\rimage updated at \"./The_prince_was_wise_and_kind._He_gave_her_the_tools_she_needed_to_live_a_happ.000086.jpg\"\n"
          ],
          "name": "stdout"
        },
        {
          "output_type": "display_data",
          "data": {
            "image/png": "./The_prince_was_wise_and_kind._He_gave_her_the_tools_she_needed_to_live_a_happy_and_fulfilling_life..jpg",
            "text/plain": [
              "<IPython.core.display.Image object>"
            ]
          },
          "metadata": {
            "tags": []
          }
        },
        {
          "output_type": "stream",
          "text": [
            "\r\rimage updated at \"./The_prince_was_wise_and_kind._He_gave_her_the_tools_she_needed_to_live_a_happ.000087.jpg\"\n"
          ],
          "name": "stdout"
        },
        {
          "output_type": "display_data",
          "data": {
            "image/png": "./The_prince_was_wise_and_kind._He_gave_her_the_tools_she_needed_to_live_a_happy_and_fulfilling_life..jpg",
            "text/plain": [
              "<IPython.core.display.Image object>"
            ]
          },
          "metadata": {
            "tags": []
          }
        },
        {
          "output_type": "stream",
          "text": [
            "\r\rimage updated at \"./The_prince_was_wise_and_kind._He_gave_her_the_tools_she_needed_to_live_a_happ.000088.jpg\"\n"
          ],
          "name": "stdout"
        },
        {
          "output_type": "display_data",
          "data": {
            "image/png": "./The_prince_was_wise_and_kind._He_gave_her_the_tools_she_needed_to_live_a_happy_and_fulfilling_life..jpg",
            "text/plain": [
              "<IPython.core.display.Image object>"
            ]
          },
          "metadata": {
            "tags": []
          }
        },
        {
          "output_type": "stream",
          "text": [
            "\r\rimage updated at \"./The_prince_was_wise_and_kind._He_gave_her_the_tools_she_needed_to_live_a_happ.000089.jpg\"\n"
          ],
          "name": "stdout"
        },
        {
          "output_type": "display_data",
          "data": {
            "image/png": "./The_prince_was_wise_and_kind._He_gave_her_the_tools_she_needed_to_live_a_happy_and_fulfilling_life..jpg",
            "text/plain": [
              "<IPython.core.display.Image object>"
            ]
          },
          "metadata": {
            "tags": []
          }
        },
        {
          "output_type": "stream",
          "text": [
            "\r\rimage updated at \"./The_prince_was_wise_and_kind._He_gave_her_the_tools_she_needed_to_live_a_happ.000090.jpg\"\n"
          ],
          "name": "stdout"
        },
        {
          "output_type": "display_data",
          "data": {
            "image/png": "./The_prince_was_wise_and_kind._He_gave_her_the_tools_she_needed_to_live_a_happy_and_fulfilling_life..jpg",
            "text/plain": [
              "<IPython.core.display.Image object>"
            ]
          },
          "metadata": {
            "tags": []
          }
        },
        {
          "output_type": "stream",
          "text": [
            "\r\rimage updated at \"./The_prince_was_wise_and_kind._He_gave_her_the_tools_she_needed_to_live_a_happ.000091.jpg\"\n"
          ],
          "name": "stdout"
        },
        {
          "output_type": "display_data",
          "data": {
            "image/png": "./The_prince_was_wise_and_kind._He_gave_her_the_tools_she_needed_to_live_a_happy_and_fulfilling_life..jpg",
            "text/plain": [
              "<IPython.core.display.Image object>"
            ]
          },
          "metadata": {
            "tags": []
          }
        },
        {
          "output_type": "stream",
          "text": [
            "\r\rimage updated at \"./The_prince_was_wise_and_kind._He_gave_her_the_tools_she_needed_to_live_a_happ.000092.jpg\"\n"
          ],
          "name": "stdout"
        },
        {
          "output_type": "display_data",
          "data": {
            "image/png": "./The_prince_was_wise_and_kind._He_gave_her_the_tools_she_needed_to_live_a_happy_and_fulfilling_life..jpg",
            "text/plain": [
              "<IPython.core.display.Image object>"
            ]
          },
          "metadata": {
            "tags": []
          }
        },
        {
          "output_type": "stream",
          "text": [
            "\r\rimage updated at \"./The_prince_was_wise_and_kind._He_gave_her_the_tools_she_needed_to_live_a_happ.000093.jpg\"\n"
          ],
          "name": "stdout"
        },
        {
          "output_type": "display_data",
          "data": {
            "image/png": "./The_prince_was_wise_and_kind._He_gave_her_the_tools_she_needed_to_live_a_happy_and_fulfilling_life..jpg",
            "text/plain": [
              "<IPython.core.display.Image object>"
            ]
          },
          "metadata": {
            "tags": []
          }
        },
        {
          "output_type": "stream",
          "text": [
            "\r\rimage updated at \"./The_prince_was_wise_and_kind._He_gave_her_the_tools_she_needed_to_live_a_happ.000094.jpg\"\n"
          ],
          "name": "stdout"
        },
        {
          "output_type": "display_data",
          "data": {
            "image/png": "./The_prince_was_wise_and_kind._He_gave_her_the_tools_she_needed_to_live_a_happy_and_fulfilling_life..jpg",
            "text/plain": [
              "<IPython.core.display.Image object>"
            ]
          },
          "metadata": {
            "tags": []
          }
        },
        {
          "output_type": "stream",
          "text": [
            "\r\rimage updated at \"./The_prince_was_wise_and_kind._He_gave_her_the_tools_she_needed_to_live_a_happ.000095.jpg\"\n"
          ],
          "name": "stdout"
        },
        {
          "output_type": "display_data",
          "data": {
            "image/png": "./The_prince_was_wise_and_kind._He_gave_her_the_tools_she_needed_to_live_a_happy_and_fulfilling_life..jpg",
            "text/plain": [
              "<IPython.core.display.Image object>"
            ]
          },
          "metadata": {
            "tags": []
          }
        },
        {
          "output_type": "stream",
          "text": [
            "\r\rimage updated at \"./The_prince_was_wise_and_kind._He_gave_her_the_tools_she_needed_to_live_a_happ.000096.jpg\"\n"
          ],
          "name": "stdout"
        },
        {
          "output_type": "display_data",
          "data": {
            "image/png": "./The_prince_was_wise_and_kind._He_gave_her_the_tools_she_needed_to_live_a_happy_and_fulfilling_life..jpg",
            "text/plain": [
              "<IPython.core.display.Image object>"
            ]
          },
          "metadata": {
            "tags": []
          }
        },
        {
          "output_type": "stream",
          "text": [
            "\r\rimage updated at \"./The_prince_was_wise_and_kind._He_gave_her_the_tools_she_needed_to_live_a_happ.000097.jpg\"\n"
          ],
          "name": "stdout"
        },
        {
          "output_type": "display_data",
          "data": {
            "image/png": "./The_prince_was_wise_and_kind._He_gave_her_the_tools_she_needed_to_live_a_happy_and_fulfilling_life..jpg",
            "text/plain": [
              "<IPython.core.display.Image object>"
            ]
          },
          "metadata": {
            "tags": []
          }
        },
        {
          "output_type": "stream",
          "text": [
            "\r\rimage updated at \"./The_prince_was_wise_and_kind._He_gave_her_the_tools_she_needed_to_live_a_happ.000098.jpg\"\n"
          ],
          "name": "stdout"
        },
        {
          "output_type": "display_data",
          "data": {
            "image/png": "./The_prince_was_wise_and_kind._He_gave_her_the_tools_she_needed_to_live_a_happy_and_fulfilling_life..jpg",
            "text/plain": [
              "<IPython.core.display.Image object>"
            ]
          },
          "metadata": {
            "tags": []
          }
        },
        {
          "output_type": "stream",
          "text": [
            "\r\rimage updated at \"./The_prince_was_wise_and_kind._He_gave_her_the_tools_she_needed_to_live_a_happ.000099.jpg\"\n"
          ],
          "name": "stdout"
        },
        {
          "output_type": "display_data",
          "data": {
            "image/png": "./The_prince_was_wise_and_kind._He_gave_her_the_tools_she_needed_to_live_a_happy_and_fulfilling_life..jpg",
            "text/plain": [
              "<IPython.core.display.Image object>"
            ]
          },
          "metadata": {
            "tags": []
          }
        },
        {
          "output_type": "stream",
          "text": [
            "\r\rimage updated at \"./The_prince_was_wise_and_kind._He_gave_her_the_tools_she_needed_to_live_a_happ.000100.jpg\"\n"
          ],
          "name": "stdout"
        },
        {
          "output_type": "display_data",
          "data": {
            "image/png": "./The_prince_was_wise_and_kind._He_gave_her_the_tools_she_needed_to_live_a_happy_and_fulfilling_life..jpg",
            "text/plain": [
              "<IPython.core.display.Image object>"
            ]
          },
          "metadata": {
            "tags": []
          }
        },
        {
          "output_type": "stream",
          "text": [
            "\r\rimage updated at \"./The_prince_was_wise_and_kind._He_gave_her_the_tools_she_needed_to_live_a_happ.000101.jpg\"\n"
          ],
          "name": "stdout"
        },
        {
          "output_type": "display_data",
          "data": {
            "image/png": "./The_prince_was_wise_and_kind._He_gave_her_the_tools_she_needed_to_live_a_happy_and_fulfilling_life..jpg",
            "text/plain": [
              "<IPython.core.display.Image object>"
            ]
          },
          "metadata": {
            "tags": []
          }
        },
        {
          "output_type": "stream",
          "text": [
            "\r\rimage updated at \"./The_prince_was_wise_and_kind._He_gave_her_the_tools_she_needed_to_live_a_happ.000102.jpg\"\n"
          ],
          "name": "stdout"
        },
        {
          "output_type": "display_data",
          "data": {
            "image/png": "./The_prince_was_wise_and_kind._He_gave_her_the_tools_she_needed_to_live_a_happy_and_fulfilling_life..jpg",
            "text/plain": [
              "<IPython.core.display.Image object>"
            ]
          },
          "metadata": {
            "tags": []
          }
        },
        {
          "output_type": "stream",
          "text": [
            "\r\rimage updated at \"./The_prince_was_wise_and_kind._He_gave_her_the_tools_she_needed_to_live_a_happ.000103.jpg\"\n"
          ],
          "name": "stdout"
        },
        {
          "output_type": "display_data",
          "data": {
            "image/png": "./The_prince_was_wise_and_kind._He_gave_her_the_tools_she_needed_to_live_a_happy_and_fulfilling_life..jpg",
            "text/plain": [
              "<IPython.core.display.Image object>"
            ]
          },
          "metadata": {
            "tags": []
          }
        },
        {
          "output_type": "stream",
          "text": [
            "\r\rimage updated at \"./The_prince_was_wise_and_kind._He_gave_her_the_tools_she_needed_to_live_a_happ.000104.jpg\"\n"
          ],
          "name": "stdout"
        },
        {
          "output_type": "display_data",
          "data": {
            "image/png": "./The_prince_was_wise_and_kind._He_gave_her_the_tools_she_needed_to_live_a_happy_and_fulfilling_life..jpg",
            "text/plain": [
              "<IPython.core.display.Image object>"
            ]
          },
          "metadata": {
            "tags": []
          }
        },
        {
          "output_type": "stream",
          "text": [
            "\n"
          ],
          "name": "stdout"
        },
        {
          "output_type": "display_data",
          "data": {
            "application/vnd.jupyter.widget-view+json": {
              "model_id": "134cd1c9d74f4c7dad6d3ad8780eb086",
              "version_major": 2,
              "version_minor": 0
            },
            "text/plain": [
              "HBox(children=(FloatProgress(value=0.0, description='iteration', max=1050.0, style=ProgressStyle(description_w…"
            ]
          },
          "metadata": {
            "tags": []
          }
        },
        {
          "output_type": "stream",
          "text": [
            "\r\rimage updated at \"./The_prince_was_wise_and_kind._He_gave_her_the_tools_she_needed_to_live_a_happ.000105.jpg\"\n"
          ],
          "name": "stdout"
        },
        {
          "output_type": "display_data",
          "data": {
            "image/png": "./The_prince_was_wise_and_kind._He_gave_her_the_tools_she_needed_to_live_a_happy_and_fulfilling_life..jpg",
            "text/plain": [
              "<IPython.core.display.Image object>"
            ]
          },
          "metadata": {
            "tags": []
          }
        },
        {
          "output_type": "stream",
          "text": [
            "\r\rimage updated at \"./The_prince_was_wise_and_kind._He_gave_her_the_tools_she_needed_to_live_a_happ.000106.jpg\"\n"
          ],
          "name": "stdout"
        },
        {
          "output_type": "display_data",
          "data": {
            "image/png": "./The_prince_was_wise_and_kind._He_gave_her_the_tools_she_needed_to_live_a_happy_and_fulfilling_life..jpg",
            "text/plain": [
              "<IPython.core.display.Image object>"
            ]
          },
          "metadata": {
            "tags": []
          }
        },
        {
          "output_type": "stream",
          "text": [
            "\r\rimage updated at \"./The_prince_was_wise_and_kind._He_gave_her_the_tools_she_needed_to_live_a_happ.000107.jpg\"\n"
          ],
          "name": "stdout"
        },
        {
          "output_type": "display_data",
          "data": {
            "image/png": "./The_prince_was_wise_and_kind._He_gave_her_the_tools_she_needed_to_live_a_happy_and_fulfilling_life..jpg",
            "text/plain": [
              "<IPython.core.display.Image object>"
            ]
          },
          "metadata": {
            "tags": []
          }
        },
        {
          "output_type": "stream",
          "text": [
            "\r\rimage updated at \"./The_prince_was_wise_and_kind._He_gave_her_the_tools_she_needed_to_live_a_happ.000108.jpg\"\n"
          ],
          "name": "stdout"
        },
        {
          "output_type": "display_data",
          "data": {
            "image/png": "./The_prince_was_wise_and_kind._He_gave_her_the_tools_she_needed_to_live_a_happy_and_fulfilling_life..jpg",
            "text/plain": [
              "<IPython.core.display.Image object>"
            ]
          },
          "metadata": {
            "tags": []
          }
        },
        {
          "output_type": "stream",
          "text": [
            "\r\rimage updated at \"./The_prince_was_wise_and_kind._He_gave_her_the_tools_she_needed_to_live_a_happ.000109.jpg\"\n"
          ],
          "name": "stdout"
        },
        {
          "output_type": "display_data",
          "data": {
            "image/png": "./The_prince_was_wise_and_kind._He_gave_her_the_tools_she_needed_to_live_a_happy_and_fulfilling_life..jpg",
            "text/plain": [
              "<IPython.core.display.Image object>"
            ]
          },
          "metadata": {
            "tags": []
          }
        },
        {
          "output_type": "stream",
          "text": [
            "\r\rimage updated at \"./The_prince_was_wise_and_kind._He_gave_her_the_tools_she_needed_to_live_a_happ.000110.jpg\"\n"
          ],
          "name": "stdout"
        },
        {
          "output_type": "display_data",
          "data": {
            "image/png": "./The_prince_was_wise_and_kind._He_gave_her_the_tools_she_needed_to_live_a_happy_and_fulfilling_life..jpg",
            "text/plain": [
              "<IPython.core.display.Image object>"
            ]
          },
          "metadata": {
            "tags": []
          }
        },
        {
          "output_type": "stream",
          "text": [
            "\r\rimage updated at \"./The_prince_was_wise_and_kind._He_gave_her_the_tools_she_needed_to_live_a_happ.000111.jpg\"\n"
          ],
          "name": "stdout"
        },
        {
          "output_type": "display_data",
          "data": {
            "image/png": "./The_prince_was_wise_and_kind._He_gave_her_the_tools_she_needed_to_live_a_happy_and_fulfilling_life..jpg",
            "text/plain": [
              "<IPython.core.display.Image object>"
            ]
          },
          "metadata": {
            "tags": []
          }
        },
        {
          "output_type": "stream",
          "text": [
            "\r\rimage updated at \"./The_prince_was_wise_and_kind._He_gave_her_the_tools_she_needed_to_live_a_happ.000112.jpg\"\n"
          ],
          "name": "stdout"
        },
        {
          "output_type": "display_data",
          "data": {
            "image/png": "./The_prince_was_wise_and_kind._He_gave_her_the_tools_she_needed_to_live_a_happy_and_fulfilling_life..jpg",
            "text/plain": [
              "<IPython.core.display.Image object>"
            ]
          },
          "metadata": {
            "tags": []
          }
        },
        {
          "output_type": "stream",
          "text": [
            "\r\rimage updated at \"./The_prince_was_wise_and_kind._He_gave_her_the_tools_she_needed_to_live_a_happ.000113.jpg\"\n"
          ],
          "name": "stdout"
        },
        {
          "output_type": "display_data",
          "data": {
            "image/png": "./The_prince_was_wise_and_kind._He_gave_her_the_tools_she_needed_to_live_a_happy_and_fulfilling_life..jpg",
            "text/plain": [
              "<IPython.core.display.Image object>"
            ]
          },
          "metadata": {
            "tags": []
          }
        },
        {
          "output_type": "stream",
          "text": [
            "\r\rimage updated at \"./The_prince_was_wise_and_kind._He_gave_her_the_tools_she_needed_to_live_a_happ.000114.jpg\"\n"
          ],
          "name": "stdout"
        },
        {
          "output_type": "display_data",
          "data": {
            "image/png": "./The_prince_was_wise_and_kind._He_gave_her_the_tools_she_needed_to_live_a_happy_and_fulfilling_life..jpg",
            "text/plain": [
              "<IPython.core.display.Image object>"
            ]
          },
          "metadata": {
            "tags": []
          }
        },
        {
          "output_type": "stream",
          "text": [
            "\r\rimage updated at \"./The_prince_was_wise_and_kind._He_gave_her_the_tools_she_needed_to_live_a_happ.000115.jpg\"\n"
          ],
          "name": "stdout"
        },
        {
          "output_type": "display_data",
          "data": {
            "image/png": "./The_prince_was_wise_and_kind._He_gave_her_the_tools_she_needed_to_live_a_happy_and_fulfilling_life..jpg",
            "text/plain": [
              "<IPython.core.display.Image object>"
            ]
          },
          "metadata": {
            "tags": []
          }
        },
        {
          "output_type": "stream",
          "text": [
            "\r\rimage updated at \"./The_prince_was_wise_and_kind._He_gave_her_the_tools_she_needed_to_live_a_happ.000116.jpg\"\n"
          ],
          "name": "stdout"
        },
        {
          "output_type": "display_data",
          "data": {
            "image/png": "./The_prince_was_wise_and_kind._He_gave_her_the_tools_she_needed_to_live_a_happy_and_fulfilling_life..jpg",
            "text/plain": [
              "<IPython.core.display.Image object>"
            ]
          },
          "metadata": {
            "tags": []
          }
        },
        {
          "output_type": "stream",
          "text": [
            "\r\rimage updated at \"./The_prince_was_wise_and_kind._He_gave_her_the_tools_she_needed_to_live_a_happ.000117.jpg\"\n"
          ],
          "name": "stdout"
        },
        {
          "output_type": "display_data",
          "data": {
            "image/png": "./The_prince_was_wise_and_kind._He_gave_her_the_tools_she_needed_to_live_a_happy_and_fulfilling_life..jpg",
            "text/plain": [
              "<IPython.core.display.Image object>"
            ]
          },
          "metadata": {
            "tags": []
          }
        },
        {
          "output_type": "stream",
          "text": [
            "\r\rimage updated at \"./The_prince_was_wise_and_kind._He_gave_her_the_tools_she_needed_to_live_a_happ.000118.jpg\"\n"
          ],
          "name": "stdout"
        },
        {
          "output_type": "display_data",
          "data": {
            "image/png": "./The_prince_was_wise_and_kind._He_gave_her_the_tools_she_needed_to_live_a_happy_and_fulfilling_life..jpg",
            "text/plain": [
              "<IPython.core.display.Image object>"
            ]
          },
          "metadata": {
            "tags": []
          }
        },
        {
          "output_type": "stream",
          "text": [
            "\r\rimage updated at \"./The_prince_was_wise_and_kind._He_gave_her_the_tools_she_needed_to_live_a_happ.000119.jpg\"\n"
          ],
          "name": "stdout"
        },
        {
          "output_type": "display_data",
          "data": {
            "image/png": "./The_prince_was_wise_and_kind._He_gave_her_the_tools_she_needed_to_live_a_happy_and_fulfilling_life..jpg",
            "text/plain": [
              "<IPython.core.display.Image object>"
            ]
          },
          "metadata": {
            "tags": []
          }
        },
        {
          "output_type": "stream",
          "text": [
            "\r\rimage updated at \"./The_prince_was_wise_and_kind._He_gave_her_the_tools_she_needed_to_live_a_happ.000120.jpg\"\n"
          ],
          "name": "stdout"
        },
        {
          "output_type": "display_data",
          "data": {
            "image/png": "./The_prince_was_wise_and_kind._He_gave_her_the_tools_she_needed_to_live_a_happy_and_fulfilling_life..jpg",
            "text/plain": [
              "<IPython.core.display.Image object>"
            ]
          },
          "metadata": {
            "tags": []
          }
        },
        {
          "output_type": "stream",
          "text": [
            "\r\rimage updated at \"./The_prince_was_wise_and_kind._He_gave_her_the_tools_she_needed_to_live_a_happ.000121.jpg\"\n"
          ],
          "name": "stdout"
        },
        {
          "output_type": "display_data",
          "data": {
            "image/png": "./The_prince_was_wise_and_kind._He_gave_her_the_tools_she_needed_to_live_a_happy_and_fulfilling_life..jpg",
            "text/plain": [
              "<IPython.core.display.Image object>"
            ]
          },
          "metadata": {
            "tags": []
          }
        },
        {
          "output_type": "stream",
          "text": [
            "\r\rimage updated at \"./The_prince_was_wise_and_kind._He_gave_her_the_tools_she_needed_to_live_a_happ.000122.jpg\"\n"
          ],
          "name": "stdout"
        },
        {
          "output_type": "display_data",
          "data": {
            "image/png": "./The_prince_was_wise_and_kind._He_gave_her_the_tools_she_needed_to_live_a_happy_and_fulfilling_life..jpg",
            "text/plain": [
              "<IPython.core.display.Image object>"
            ]
          },
          "metadata": {
            "tags": []
          }
        },
        {
          "output_type": "stream",
          "text": [
            "\r\rimage updated at \"./The_prince_was_wise_and_kind._He_gave_her_the_tools_she_needed_to_live_a_happ.000123.jpg\"\n"
          ],
          "name": "stdout"
        },
        {
          "output_type": "display_data",
          "data": {
            "image/png": "./The_prince_was_wise_and_kind._He_gave_her_the_tools_she_needed_to_live_a_happy_and_fulfilling_life..jpg",
            "text/plain": [
              "<IPython.core.display.Image object>"
            ]
          },
          "metadata": {
            "tags": []
          }
        },
        {
          "output_type": "stream",
          "text": [
            "\r\rimage updated at \"./The_prince_was_wise_and_kind._He_gave_her_the_tools_she_needed_to_live_a_happ.000124.jpg\"\n"
          ],
          "name": "stdout"
        },
        {
          "output_type": "display_data",
          "data": {
            "image/png": "./The_prince_was_wise_and_kind._He_gave_her_the_tools_she_needed_to_live_a_happy_and_fulfilling_life..jpg",
            "text/plain": [
              "<IPython.core.display.Image object>"
            ]
          },
          "metadata": {
            "tags": []
          }
        },
        {
          "output_type": "stream",
          "text": [
            "\r\rimage updated at \"./The_prince_was_wise_and_kind._He_gave_her_the_tools_she_needed_to_live_a_happ.000125.jpg\"\n"
          ],
          "name": "stdout"
        },
        {
          "output_type": "display_data",
          "data": {
            "image/png": "./The_prince_was_wise_and_kind._He_gave_her_the_tools_she_needed_to_live_a_happy_and_fulfilling_life..jpg",
            "text/plain": [
              "<IPython.core.display.Image object>"
            ]
          },
          "metadata": {
            "tags": []
          }
        },
        {
          "output_type": "stream",
          "text": [
            "\r\rimage updated at \"./The_prince_was_wise_and_kind._He_gave_her_the_tools_she_needed_to_live_a_happ.000126.jpg\"\n"
          ],
          "name": "stdout"
        },
        {
          "output_type": "display_data",
          "data": {
            "image/png": "./The_prince_was_wise_and_kind._He_gave_her_the_tools_she_needed_to_live_a_happy_and_fulfilling_life..jpg",
            "text/plain": [
              "<IPython.core.display.Image object>"
            ]
          },
          "metadata": {
            "tags": []
          }
        },
        {
          "output_type": "stream",
          "text": [
            "\r\rimage updated at \"./The_prince_was_wise_and_kind._He_gave_her_the_tools_she_needed_to_live_a_happ.000127.jpg\"\n"
          ],
          "name": "stdout"
        },
        {
          "output_type": "display_data",
          "data": {
            "image/png": "./The_prince_was_wise_and_kind._He_gave_her_the_tools_she_needed_to_live_a_happy_and_fulfilling_life..jpg",
            "text/plain": [
              "<IPython.core.display.Image object>"
            ]
          },
          "metadata": {
            "tags": []
          }
        },
        {
          "output_type": "stream",
          "text": [
            "\r\rimage updated at \"./The_prince_was_wise_and_kind._He_gave_her_the_tools_she_needed_to_live_a_happ.000128.jpg\"\n"
          ],
          "name": "stdout"
        },
        {
          "output_type": "display_data",
          "data": {
            "image/png": "./The_prince_was_wise_and_kind._He_gave_her_the_tools_she_needed_to_live_a_happy_and_fulfilling_life..jpg",
            "text/plain": [
              "<IPython.core.display.Image object>"
            ]
          },
          "metadata": {
            "tags": []
          }
        },
        {
          "output_type": "stream",
          "text": [
            "\r\rimage updated at \"./The_prince_was_wise_and_kind._He_gave_her_the_tools_she_needed_to_live_a_happ.000129.jpg\"\n"
          ],
          "name": "stdout"
        },
        {
          "output_type": "display_data",
          "data": {
            "image/png": "./The_prince_was_wise_and_kind._He_gave_her_the_tools_she_needed_to_live_a_happy_and_fulfilling_life..jpg",
            "text/plain": [
              "<IPython.core.display.Image object>"
            ]
          },
          "metadata": {
            "tags": []
          }
        },
        {
          "output_type": "stream",
          "text": [
            "\r\rimage updated at \"./The_prince_was_wise_and_kind._He_gave_her_the_tools_she_needed_to_live_a_happ.000130.jpg\"\n"
          ],
          "name": "stdout"
        },
        {
          "output_type": "display_data",
          "data": {
            "image/png": "./The_prince_was_wise_and_kind._He_gave_her_the_tools_she_needed_to_live_a_happy_and_fulfilling_life..jpg",
            "text/plain": [
              "<IPython.core.display.Image object>"
            ]
          },
          "metadata": {
            "tags": []
          }
        },
        {
          "output_type": "stream",
          "text": [
            "\r\rimage updated at \"./The_prince_was_wise_and_kind._He_gave_her_the_tools_she_needed_to_live_a_happ.000131.jpg\"\n"
          ],
          "name": "stdout"
        },
        {
          "output_type": "display_data",
          "data": {
            "image/png": "./The_prince_was_wise_and_kind._He_gave_her_the_tools_she_needed_to_live_a_happy_and_fulfilling_life..jpg",
            "text/plain": [
              "<IPython.core.display.Image object>"
            ]
          },
          "metadata": {
            "tags": []
          }
        },
        {
          "output_type": "stream",
          "text": [
            "\r\rimage updated at \"./The_prince_was_wise_and_kind._He_gave_her_the_tools_she_needed_to_live_a_happ.000132.jpg\"\n"
          ],
          "name": "stdout"
        },
        {
          "output_type": "display_data",
          "data": {
            "image/png": "./The_prince_was_wise_and_kind._He_gave_her_the_tools_she_needed_to_live_a_happy_and_fulfilling_life..jpg",
            "text/plain": [
              "<IPython.core.display.Image object>"
            ]
          },
          "metadata": {
            "tags": []
          }
        },
        {
          "output_type": "stream",
          "text": [
            "\r\rimage updated at \"./The_prince_was_wise_and_kind._He_gave_her_the_tools_she_needed_to_live_a_happ.000133.jpg\"\n"
          ],
          "name": "stdout"
        },
        {
          "output_type": "display_data",
          "data": {
            "image/png": "./The_prince_was_wise_and_kind._He_gave_her_the_tools_she_needed_to_live_a_happy_and_fulfilling_life..jpg",
            "text/plain": [
              "<IPython.core.display.Image object>"
            ]
          },
          "metadata": {
            "tags": []
          }
        },
        {
          "output_type": "stream",
          "text": [
            "\r\rimage updated at \"./The_prince_was_wise_and_kind._He_gave_her_the_tools_she_needed_to_live_a_happ.000134.jpg\"\n"
          ],
          "name": "stdout"
        },
        {
          "output_type": "display_data",
          "data": {
            "image/png": "./The_prince_was_wise_and_kind._He_gave_her_the_tools_she_needed_to_live_a_happy_and_fulfilling_life..jpg",
            "text/plain": [
              "<IPython.core.display.Image object>"
            ]
          },
          "metadata": {
            "tags": []
          }
        },
        {
          "output_type": "stream",
          "text": [
            "\r\rimage updated at \"./The_prince_was_wise_and_kind._He_gave_her_the_tools_she_needed_to_live_a_happ.000135.jpg\"\n"
          ],
          "name": "stdout"
        },
        {
          "output_type": "display_data",
          "data": {
            "image/png": "./The_prince_was_wise_and_kind._He_gave_her_the_tools_she_needed_to_live_a_happy_and_fulfilling_life..jpg",
            "text/plain": [
              "<IPython.core.display.Image object>"
            ]
          },
          "metadata": {
            "tags": []
          }
        },
        {
          "output_type": "stream",
          "text": [
            "\r\rimage updated at \"./The_prince_was_wise_and_kind._He_gave_her_the_tools_she_needed_to_live_a_happ.000136.jpg\"\n"
          ],
          "name": "stdout"
        },
        {
          "output_type": "display_data",
          "data": {
            "image/png": "./The_prince_was_wise_and_kind._He_gave_her_the_tools_she_needed_to_live_a_happy_and_fulfilling_life..jpg",
            "text/plain": [
              "<IPython.core.display.Image object>"
            ]
          },
          "metadata": {
            "tags": []
          }
        },
        {
          "output_type": "stream",
          "text": [
            "\r\rimage updated at \"./The_prince_was_wise_and_kind._He_gave_her_the_tools_she_needed_to_live_a_happ.000137.jpg\"\n"
          ],
          "name": "stdout"
        },
        {
          "output_type": "display_data",
          "data": {
            "image/png": "./The_prince_was_wise_and_kind._He_gave_her_the_tools_she_needed_to_live_a_happy_and_fulfilling_life..jpg",
            "text/plain": [
              "<IPython.core.display.Image object>"
            ]
          },
          "metadata": {
            "tags": []
          }
        },
        {
          "output_type": "stream",
          "text": [
            "\r\rimage updated at \"./The_prince_was_wise_and_kind._He_gave_her_the_tools_she_needed_to_live_a_happ.000138.jpg\"\n"
          ],
          "name": "stdout"
        },
        {
          "output_type": "display_data",
          "data": {
            "image/png": "./The_prince_was_wise_and_kind._He_gave_her_the_tools_she_needed_to_live_a_happy_and_fulfilling_life..jpg",
            "text/plain": [
              "<IPython.core.display.Image object>"
            ]
          },
          "metadata": {
            "tags": []
          }
        },
        {
          "output_type": "stream",
          "text": [
            "\r\rimage updated at \"./The_prince_was_wise_and_kind._He_gave_her_the_tools_she_needed_to_live_a_happ.000139.jpg\"\n"
          ],
          "name": "stdout"
        },
        {
          "output_type": "display_data",
          "data": {
            "image/png": "./The_prince_was_wise_and_kind._He_gave_her_the_tools_she_needed_to_live_a_happy_and_fulfilling_life..jpg",
            "text/plain": [
              "<IPython.core.display.Image object>"
            ]
          },
          "metadata": {
            "tags": []
          }
        },
        {
          "output_type": "stream",
          "text": [
            "\r\rimage updated at \"./The_prince_was_wise_and_kind._He_gave_her_the_tools_she_needed_to_live_a_happ.000140.jpg\"\n"
          ],
          "name": "stdout"
        },
        {
          "output_type": "display_data",
          "data": {
            "image/png": "./The_prince_was_wise_and_kind._He_gave_her_the_tools_she_needed_to_live_a_happy_and_fulfilling_life..jpg",
            "text/plain": [
              "<IPython.core.display.Image object>"
            ]
          },
          "metadata": {
            "tags": []
          }
        },
        {
          "output_type": "stream",
          "text": [
            "\r\rimage updated at \"./The_prince_was_wise_and_kind._He_gave_her_the_tools_she_needed_to_live_a_happ.000141.jpg\"\n"
          ],
          "name": "stdout"
        },
        {
          "output_type": "display_data",
          "data": {
            "image/png": "./The_prince_was_wise_and_kind._He_gave_her_the_tools_she_needed_to_live_a_happy_and_fulfilling_life..jpg",
            "text/plain": [
              "<IPython.core.display.Image object>"
            ]
          },
          "metadata": {
            "tags": []
          }
        },
        {
          "output_type": "stream",
          "text": [
            "\r\rimage updated at \"./The_prince_was_wise_and_kind._He_gave_her_the_tools_she_needed_to_live_a_happ.000142.jpg\"\n"
          ],
          "name": "stdout"
        },
        {
          "output_type": "display_data",
          "data": {
            "image/png": "./The_prince_was_wise_and_kind._He_gave_her_the_tools_she_needed_to_live_a_happy_and_fulfilling_life..jpg",
            "text/plain": [
              "<IPython.core.display.Image object>"
            ]
          },
          "metadata": {
            "tags": []
          }
        },
        {
          "output_type": "stream",
          "text": [
            "\r\rimage updated at \"./The_prince_was_wise_and_kind._He_gave_her_the_tools_she_needed_to_live_a_happ.000143.jpg\"\n"
          ],
          "name": "stdout"
        },
        {
          "output_type": "display_data",
          "data": {
            "image/png": "./The_prince_was_wise_and_kind._He_gave_her_the_tools_she_needed_to_live_a_happy_and_fulfilling_life..jpg",
            "text/plain": [
              "<IPython.core.display.Image object>"
            ]
          },
          "metadata": {
            "tags": []
          }
        },
        {
          "output_type": "stream",
          "text": [
            "\r\rimage updated at \"./The_prince_was_wise_and_kind._He_gave_her_the_tools_she_needed_to_live_a_happ.000144.jpg\"\n"
          ],
          "name": "stdout"
        },
        {
          "output_type": "display_data",
          "data": {
            "image/png": "./The_prince_was_wise_and_kind._He_gave_her_the_tools_she_needed_to_live_a_happy_and_fulfilling_life..jpg",
            "text/plain": [
              "<IPython.core.display.Image object>"
            ]
          },
          "metadata": {
            "tags": []
          }
        },
        {
          "output_type": "stream",
          "text": [
            "\r\rimage updated at \"./The_prince_was_wise_and_kind._He_gave_her_the_tools_she_needed_to_live_a_happ.000145.jpg\"\n"
          ],
          "name": "stdout"
        },
        {
          "output_type": "display_data",
          "data": {
            "image/png": "./The_prince_was_wise_and_kind._He_gave_her_the_tools_she_needed_to_live_a_happy_and_fulfilling_life..jpg",
            "text/plain": [
              "<IPython.core.display.Image object>"
            ]
          },
          "metadata": {
            "tags": []
          }
        },
        {
          "output_type": "stream",
          "text": [
            "\r\rimage updated at \"./The_prince_was_wise_and_kind._He_gave_her_the_tools_she_needed_to_live_a_happ.000146.jpg\"\n"
          ],
          "name": "stdout"
        },
        {
          "output_type": "display_data",
          "data": {
            "image/png": "./The_prince_was_wise_and_kind._He_gave_her_the_tools_she_needed_to_live_a_happy_and_fulfilling_life..jpg",
            "text/plain": [
              "<IPython.core.display.Image object>"
            ]
          },
          "metadata": {
            "tags": []
          }
        },
        {
          "output_type": "stream",
          "text": [
            "\r\rimage updated at \"./The_prince_was_wise_and_kind._He_gave_her_the_tools_she_needed_to_live_a_happ.000147.jpg\"\n"
          ],
          "name": "stdout"
        },
        {
          "output_type": "display_data",
          "data": {
            "image/png": "./The_prince_was_wise_and_kind._He_gave_her_the_tools_she_needed_to_live_a_happy_and_fulfilling_life..jpg",
            "text/plain": [
              "<IPython.core.display.Image object>"
            ]
          },
          "metadata": {
            "tags": []
          }
        },
        {
          "output_type": "stream",
          "text": [
            "\r\rimage updated at \"./The_prince_was_wise_and_kind._He_gave_her_the_tools_she_needed_to_live_a_happ.000148.jpg\"\n"
          ],
          "name": "stdout"
        },
        {
          "output_type": "display_data",
          "data": {
            "image/png": "./The_prince_was_wise_and_kind._He_gave_her_the_tools_she_needed_to_live_a_happy_and_fulfilling_life..jpg",
            "text/plain": [
              "<IPython.core.display.Image object>"
            ]
          },
          "metadata": {
            "tags": []
          }
        },
        {
          "output_type": "stream",
          "text": [
            "\r\rimage updated at \"./The_prince_was_wise_and_kind._He_gave_her_the_tools_she_needed_to_live_a_happ.000149.jpg\"\n"
          ],
          "name": "stdout"
        },
        {
          "output_type": "display_data",
          "data": {
            "image/png": "./The_prince_was_wise_and_kind._He_gave_her_the_tools_she_needed_to_live_a_happy_and_fulfilling_life..jpg",
            "text/plain": [
              "<IPython.core.display.Image object>"
            ]
          },
          "metadata": {
            "tags": []
          }
        },
        {
          "output_type": "stream",
          "text": [
            "\r\rimage updated at \"./The_prince_was_wise_and_kind._He_gave_her_the_tools_she_needed_to_live_a_happ.000150.jpg\"\n"
          ],
          "name": "stdout"
        },
        {
          "output_type": "display_data",
          "data": {
            "image/png": "./The_prince_was_wise_and_kind._He_gave_her_the_tools_she_needed_to_live_a_happy_and_fulfilling_life..jpg",
            "text/plain": [
              "<IPython.core.display.Image object>"
            ]
          },
          "metadata": {
            "tags": []
          }
        },
        {
          "output_type": "stream",
          "text": [
            "\r\rimage updated at \"./The_prince_was_wise_and_kind._He_gave_her_the_tools_she_needed_to_live_a_happ.000151.jpg\"\n"
          ],
          "name": "stdout"
        },
        {
          "output_type": "display_data",
          "data": {
            "image/png": "./The_prince_was_wise_and_kind._He_gave_her_the_tools_she_needed_to_live_a_happy_and_fulfilling_life..jpg",
            "text/plain": [
              "<IPython.core.display.Image object>"
            ]
          },
          "metadata": {
            "tags": []
          }
        },
        {
          "output_type": "stream",
          "text": [
            "\r\rimage updated at \"./The_prince_was_wise_and_kind._He_gave_her_the_tools_she_needed_to_live_a_happ.000152.jpg\"\n"
          ],
          "name": "stdout"
        },
        {
          "output_type": "display_data",
          "data": {
            "image/png": "./The_prince_was_wise_and_kind._He_gave_her_the_tools_she_needed_to_live_a_happy_and_fulfilling_life..jpg",
            "text/plain": [
              "<IPython.core.display.Image object>"
            ]
          },
          "metadata": {
            "tags": []
          }
        },
        {
          "output_type": "stream",
          "text": [
            "\r\rimage updated at \"./The_prince_was_wise_and_kind._He_gave_her_the_tools_she_needed_to_live_a_happ.000153.jpg\"\n"
          ],
          "name": "stdout"
        },
        {
          "output_type": "display_data",
          "data": {
            "image/png": "./The_prince_was_wise_and_kind._He_gave_her_the_tools_she_needed_to_live_a_happy_and_fulfilling_life..jpg",
            "text/plain": [
              "<IPython.core.display.Image object>"
            ]
          },
          "metadata": {
            "tags": []
          }
        },
        {
          "output_type": "stream",
          "text": [
            "\r\rimage updated at \"./The_prince_was_wise_and_kind._He_gave_her_the_tools_she_needed_to_live_a_happ.000154.jpg\"\n"
          ],
          "name": "stdout"
        },
        {
          "output_type": "display_data",
          "data": {
            "image/png": "./The_prince_was_wise_and_kind._He_gave_her_the_tools_she_needed_to_live_a_happy_and_fulfilling_life..jpg",
            "text/plain": [
              "<IPython.core.display.Image object>"
            ]
          },
          "metadata": {
            "tags": []
          }
        },
        {
          "output_type": "stream",
          "text": [
            "\r\rimage updated at \"./The_prince_was_wise_and_kind._He_gave_her_the_tools_she_needed_to_live_a_happ.000155.jpg\"\n"
          ],
          "name": "stdout"
        },
        {
          "output_type": "display_data",
          "data": {
            "image/png": "./The_prince_was_wise_and_kind._He_gave_her_the_tools_she_needed_to_live_a_happy_and_fulfilling_life..jpg",
            "text/plain": [
              "<IPython.core.display.Image object>"
            ]
          },
          "metadata": {
            "tags": []
          }
        },
        {
          "output_type": "stream",
          "text": [
            "\r\rimage updated at \"./The_prince_was_wise_and_kind._He_gave_her_the_tools_she_needed_to_live_a_happ.000156.jpg\"\n"
          ],
          "name": "stdout"
        },
        {
          "output_type": "display_data",
          "data": {
            "image/png": "./The_prince_was_wise_and_kind._He_gave_her_the_tools_she_needed_to_live_a_happy_and_fulfilling_life..jpg",
            "text/plain": [
              "<IPython.core.display.Image object>"
            ]
          },
          "metadata": {
            "tags": []
          }
        },
        {
          "output_type": "stream",
          "text": [
            "\r\rimage updated at \"./The_prince_was_wise_and_kind._He_gave_her_the_tools_she_needed_to_live_a_happ.000157.jpg\"\n"
          ],
          "name": "stdout"
        },
        {
          "output_type": "display_data",
          "data": {
            "image/png": "./The_prince_was_wise_and_kind._He_gave_her_the_tools_she_needed_to_live_a_happy_and_fulfilling_life..jpg",
            "text/plain": [
              "<IPython.core.display.Image object>"
            ]
          },
          "metadata": {
            "tags": []
          }
        },
        {
          "output_type": "stream",
          "text": [
            "\n"
          ],
          "name": "stdout"
        },
        {
          "output_type": "display_data",
          "data": {
            "application/vnd.jupyter.widget-view+json": {
              "model_id": "4c627ce75b1a4798bf5dc9948c3becb1",
              "version_major": 2,
              "version_minor": 0
            },
            "text/plain": [
              "HBox(children=(FloatProgress(value=0.0, description='iteration', max=1050.0, style=ProgressStyle(description_w…"
            ]
          },
          "metadata": {
            "tags": []
          }
        },
        {
          "output_type": "stream",
          "text": [
            "\r\rimage updated at \"./The_prince_was_wise_and_kind._He_gave_her_the_tools_she_needed_to_live_a_happ.000157.jpg\"\n"
          ],
          "name": "stdout"
        },
        {
          "output_type": "display_data",
          "data": {
            "image/png": "./The_prince_was_wise_and_kind._He_gave_her_the_tools_she_needed_to_live_a_happy_and_fulfilling_life..jpg",
            "text/plain": [
              "<IPython.core.display.Image object>"
            ]
          },
          "metadata": {
            "tags": []
          }
        },
        {
          "output_type": "stream",
          "text": [
            "\r\rimage updated at \"./The_prince_was_wise_and_kind._He_gave_her_the_tools_she_needed_to_live_a_happ.000158.jpg\"\n"
          ],
          "name": "stdout"
        },
        {
          "output_type": "display_data",
          "data": {
            "image/png": "./The_prince_was_wise_and_kind._He_gave_her_the_tools_she_needed_to_live_a_happy_and_fulfilling_life..jpg",
            "text/plain": [
              "<IPython.core.display.Image object>"
            ]
          },
          "metadata": {
            "tags": []
          }
        },
        {
          "output_type": "stream",
          "text": [
            "\r\rimage updated at \"./The_prince_was_wise_and_kind._He_gave_her_the_tools_she_needed_to_live_a_happ.000159.jpg\"\n"
          ],
          "name": "stdout"
        },
        {
          "output_type": "display_data",
          "data": {
            "image/png": "./The_prince_was_wise_and_kind._He_gave_her_the_tools_she_needed_to_live_a_happy_and_fulfilling_life..jpg",
            "text/plain": [
              "<IPython.core.display.Image object>"
            ]
          },
          "metadata": {
            "tags": []
          }
        },
        {
          "output_type": "stream",
          "text": [
            "\r\rimage updated at \"./The_prince_was_wise_and_kind._He_gave_her_the_tools_she_needed_to_live_a_happ.000160.jpg\"\n"
          ],
          "name": "stdout"
        },
        {
          "output_type": "display_data",
          "data": {
            "image/png": "./The_prince_was_wise_and_kind._He_gave_her_the_tools_she_needed_to_live_a_happy_and_fulfilling_life..jpg",
            "text/plain": [
              "<IPython.core.display.Image object>"
            ]
          },
          "metadata": {
            "tags": []
          }
        },
        {
          "output_type": "stream",
          "text": [
            "\r\rimage updated at \"./The_prince_was_wise_and_kind._He_gave_her_the_tools_she_needed_to_live_a_happ.000161.jpg\"\n"
          ],
          "name": "stdout"
        },
        {
          "output_type": "display_data",
          "data": {
            "image/png": "./The_prince_was_wise_and_kind._He_gave_her_the_tools_she_needed_to_live_a_happy_and_fulfilling_life..jpg",
            "text/plain": [
              "<IPython.core.display.Image object>"
            ]
          },
          "metadata": {
            "tags": []
          }
        },
        {
          "output_type": "stream",
          "text": [
            "\r\rimage updated at \"./The_prince_was_wise_and_kind._He_gave_her_the_tools_she_needed_to_live_a_happ.000162.jpg\"\n"
          ],
          "name": "stdout"
        },
        {
          "output_type": "display_data",
          "data": {
            "image/png": "./The_prince_was_wise_and_kind._He_gave_her_the_tools_she_needed_to_live_a_happy_and_fulfilling_life..jpg",
            "text/plain": [
              "<IPython.core.display.Image object>"
            ]
          },
          "metadata": {
            "tags": []
          }
        },
        {
          "output_type": "stream",
          "text": [
            "\r\rimage updated at \"./The_prince_was_wise_and_kind._He_gave_her_the_tools_she_needed_to_live_a_happ.000163.jpg\"\n"
          ],
          "name": "stdout"
        },
        {
          "output_type": "display_data",
          "data": {
            "image/png": "./The_prince_was_wise_and_kind._He_gave_her_the_tools_she_needed_to_live_a_happy_and_fulfilling_life..jpg",
            "text/plain": [
              "<IPython.core.display.Image object>"
            ]
          },
          "metadata": {
            "tags": []
          }
        },
        {
          "output_type": "stream",
          "text": [
            "\r\rimage updated at \"./The_prince_was_wise_and_kind._He_gave_her_the_tools_she_needed_to_live_a_happ.000164.jpg\"\n"
          ],
          "name": "stdout"
        },
        {
          "output_type": "display_data",
          "data": {
            "image/png": "./The_prince_was_wise_and_kind._He_gave_her_the_tools_she_needed_to_live_a_happy_and_fulfilling_life..jpg",
            "text/plain": [
              "<IPython.core.display.Image object>"
            ]
          },
          "metadata": {
            "tags": []
          }
        },
        {
          "output_type": "stream",
          "text": [
            "\r\rimage updated at \"./The_prince_was_wise_and_kind._He_gave_her_the_tools_she_needed_to_live_a_happ.000165.jpg\"\n"
          ],
          "name": "stdout"
        },
        {
          "output_type": "display_data",
          "data": {
            "image/png": "./The_prince_was_wise_and_kind._He_gave_her_the_tools_she_needed_to_live_a_happy_and_fulfilling_life..jpg",
            "text/plain": [
              "<IPython.core.display.Image object>"
            ]
          },
          "metadata": {
            "tags": []
          }
        },
        {
          "output_type": "stream",
          "text": [
            "\r\rimage updated at \"./The_prince_was_wise_and_kind._He_gave_her_the_tools_she_needed_to_live_a_happ.000166.jpg\"\n"
          ],
          "name": "stdout"
        },
        {
          "output_type": "display_data",
          "data": {
            "image/png": "./The_prince_was_wise_and_kind._He_gave_her_the_tools_she_needed_to_live_a_happy_and_fulfilling_life..jpg",
            "text/plain": [
              "<IPython.core.display.Image object>"
            ]
          },
          "metadata": {
            "tags": []
          }
        },
        {
          "output_type": "stream",
          "text": [
            "\r\rimage updated at \"./The_prince_was_wise_and_kind._He_gave_her_the_tools_she_needed_to_live_a_happ.000167.jpg\"\n"
          ],
          "name": "stdout"
        },
        {
          "output_type": "display_data",
          "data": {
            "image/png": "./The_prince_was_wise_and_kind._He_gave_her_the_tools_she_needed_to_live_a_happy_and_fulfilling_life..jpg",
            "text/plain": [
              "<IPython.core.display.Image object>"
            ]
          },
          "metadata": {
            "tags": []
          }
        },
        {
          "output_type": "stream",
          "text": [
            "\r\rimage updated at \"./The_prince_was_wise_and_kind._He_gave_her_the_tools_she_needed_to_live_a_happ.000168.jpg\"\n"
          ],
          "name": "stdout"
        },
        {
          "output_type": "display_data",
          "data": {
            "image/png": "./The_prince_was_wise_and_kind._He_gave_her_the_tools_she_needed_to_live_a_happy_and_fulfilling_life..jpg",
            "text/plain": [
              "<IPython.core.display.Image object>"
            ]
          },
          "metadata": {
            "tags": []
          }
        },
        {
          "output_type": "stream",
          "text": [
            "\r\rimage updated at \"./The_prince_was_wise_and_kind._He_gave_her_the_tools_she_needed_to_live_a_happ.000169.jpg\"\n"
          ],
          "name": "stdout"
        },
        {
          "output_type": "display_data",
          "data": {
            "image/png": "./The_prince_was_wise_and_kind._He_gave_her_the_tools_she_needed_to_live_a_happy_and_fulfilling_life..jpg",
            "text/plain": [
              "<IPython.core.display.Image object>"
            ]
          },
          "metadata": {
            "tags": []
          }
        },
        {
          "output_type": "stream",
          "text": [
            "\r\rimage updated at \"./The_prince_was_wise_and_kind._He_gave_her_the_tools_she_needed_to_live_a_happ.000170.jpg\"\n"
          ],
          "name": "stdout"
        },
        {
          "output_type": "display_data",
          "data": {
            "image/png": "./The_prince_was_wise_and_kind._He_gave_her_the_tools_she_needed_to_live_a_happy_and_fulfilling_life..jpg",
            "text/plain": [
              "<IPython.core.display.Image object>"
            ]
          },
          "metadata": {
            "tags": []
          }
        },
        {
          "output_type": "stream",
          "text": [
            "\r\rimage updated at \"./The_prince_was_wise_and_kind._He_gave_her_the_tools_she_needed_to_live_a_happ.000171.jpg\"\n"
          ],
          "name": "stdout"
        },
        {
          "output_type": "display_data",
          "data": {
            "image/png": "./The_prince_was_wise_and_kind._He_gave_her_the_tools_she_needed_to_live_a_happy_and_fulfilling_life..jpg",
            "text/plain": [
              "<IPython.core.display.Image object>"
            ]
          },
          "metadata": {
            "tags": []
          }
        },
        {
          "output_type": "stream",
          "text": [
            "\r\rimage updated at \"./The_prince_was_wise_and_kind._He_gave_her_the_tools_she_needed_to_live_a_happ.000172.jpg\"\n"
          ],
          "name": "stdout"
        },
        {
          "output_type": "display_data",
          "data": {
            "image/png": "./The_prince_was_wise_and_kind._He_gave_her_the_tools_she_needed_to_live_a_happy_and_fulfilling_life..jpg",
            "text/plain": [
              "<IPython.core.display.Image object>"
            ]
          },
          "metadata": {
            "tags": []
          }
        },
        {
          "output_type": "stream",
          "text": [
            "\r\rimage updated at \"./The_prince_was_wise_and_kind._He_gave_her_the_tools_she_needed_to_live_a_happ.000173.jpg\"\n"
          ],
          "name": "stdout"
        },
        {
          "output_type": "display_data",
          "data": {
            "image/png": "./The_prince_was_wise_and_kind._He_gave_her_the_tools_she_needed_to_live_a_happy_and_fulfilling_life..jpg",
            "text/plain": [
              "<IPython.core.display.Image object>"
            ]
          },
          "metadata": {
            "tags": []
          }
        },
        {
          "output_type": "stream",
          "text": [
            "\r\rimage updated at \"./The_prince_was_wise_and_kind._He_gave_her_the_tools_she_needed_to_live_a_happ.000174.jpg\"\n"
          ],
          "name": "stdout"
        },
        {
          "output_type": "display_data",
          "data": {
            "image/png": "./The_prince_was_wise_and_kind._He_gave_her_the_tools_she_needed_to_live_a_happy_and_fulfilling_life..jpg",
            "text/plain": [
              "<IPython.core.display.Image object>"
            ]
          },
          "metadata": {
            "tags": []
          }
        },
        {
          "output_type": "stream",
          "text": [
            "\r\rimage updated at \"./The_prince_was_wise_and_kind._He_gave_her_the_tools_she_needed_to_live_a_happ.000175.jpg\"\n"
          ],
          "name": "stdout"
        },
        {
          "output_type": "display_data",
          "data": {
            "image/png": "./The_prince_was_wise_and_kind._He_gave_her_the_tools_she_needed_to_live_a_happy_and_fulfilling_life..jpg",
            "text/plain": [
              "<IPython.core.display.Image object>"
            ]
          },
          "metadata": {
            "tags": []
          }
        },
        {
          "output_type": "stream",
          "text": [
            "\r\rimage updated at \"./The_prince_was_wise_and_kind._He_gave_her_the_tools_she_needed_to_live_a_happ.000176.jpg\"\n"
          ],
          "name": "stdout"
        },
        {
          "output_type": "display_data",
          "data": {
            "image/png": "./The_prince_was_wise_and_kind._He_gave_her_the_tools_she_needed_to_live_a_happy_and_fulfilling_life..jpg",
            "text/plain": [
              "<IPython.core.display.Image object>"
            ]
          },
          "metadata": {
            "tags": []
          }
        },
        {
          "output_type": "stream",
          "text": [
            "\r\rimage updated at \"./The_prince_was_wise_and_kind._He_gave_her_the_tools_she_needed_to_live_a_happ.000177.jpg\"\n"
          ],
          "name": "stdout"
        },
        {
          "output_type": "display_data",
          "data": {
            "image/png": "./The_prince_was_wise_and_kind._He_gave_her_the_tools_she_needed_to_live_a_happy_and_fulfilling_life..jpg",
            "text/plain": [
              "<IPython.core.display.Image object>"
            ]
          },
          "metadata": {
            "tags": []
          }
        },
        {
          "output_type": "stream",
          "text": [
            "\r\rimage updated at \"./The_prince_was_wise_and_kind._He_gave_her_the_tools_she_needed_to_live_a_happ.000178.jpg\"\n"
          ],
          "name": "stdout"
        },
        {
          "output_type": "display_data",
          "data": {
            "image/png": "./The_prince_was_wise_and_kind._He_gave_her_the_tools_she_needed_to_live_a_happy_and_fulfilling_life..jpg",
            "text/plain": [
              "<IPython.core.display.Image object>"
            ]
          },
          "metadata": {
            "tags": []
          }
        },
        {
          "output_type": "stream",
          "text": [
            "\r\rimage updated at \"./The_prince_was_wise_and_kind._He_gave_her_the_tools_she_needed_to_live_a_happ.000179.jpg\"\n"
          ],
          "name": "stdout"
        },
        {
          "output_type": "display_data",
          "data": {
            "image/png": "./The_prince_was_wise_and_kind._He_gave_her_the_tools_she_needed_to_live_a_happy_and_fulfilling_life..jpg",
            "text/plain": [
              "<IPython.core.display.Image object>"
            ]
          },
          "metadata": {
            "tags": []
          }
        },
        {
          "output_type": "stream",
          "text": [
            "\r\rimage updated at \"./The_prince_was_wise_and_kind._He_gave_her_the_tools_she_needed_to_live_a_happ.000180.jpg\"\n"
          ],
          "name": "stdout"
        },
        {
          "output_type": "display_data",
          "data": {
            "image/png": "./The_prince_was_wise_and_kind._He_gave_her_the_tools_she_needed_to_live_a_happy_and_fulfilling_life..jpg",
            "text/plain": [
              "<IPython.core.display.Image object>"
            ]
          },
          "metadata": {
            "tags": []
          }
        }
      ]
    },
    {
      "cell_type": "code",
      "metadata": {
        "id": "wC_f_ZBSbJBn"
      },
      "source": [
        ""
      ],
      "execution_count": null,
      "outputs": []
    }
  ]
}